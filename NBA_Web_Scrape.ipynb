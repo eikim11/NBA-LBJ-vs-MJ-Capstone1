{
 "cells": [
  {
   "cell_type": "markdown",
   "metadata": {},
   "source": [
    "# Web Scraping basketball-reference.com"
   ]
  },
  {
   "cell_type": "code",
   "execution_count": 2,
   "metadata": {},
   "outputs": [],
   "source": [
    "from bs4 import BeautifulSoup\n",
    "import requests\n",
    "\n",
    "source = requests.get('https://www.basketball-reference.com/teams/CLE/2004.html').text"
   ]
  },
  {
   "cell_type": "markdown",
   "metadata": {},
   "source": [
    "## Web Scraping Individual Tables - Lebron Game Stats Per Season"
   ]
  },
  {
   "cell_type": "code",
   "execution_count": 9,
   "metadata": {},
   "outputs": [],
   "source": [
    "from bs4 import BeautifulSoup\n",
    "import requests\n",
    "import pandas as pd"
   ]
  },
  {
   "cell_type": "markdown",
   "metadata": {},
   "source": [
    "#### Collecting gamelog links for each season for LBJ and MJ"
   ]
  },
  {
   "cell_type": "code",
   "execution_count": 64,
   "metadata": {
    "scrolled": false
   },
   "outputs": [
    {
     "data": {
      "text/plain": [
       "dict_keys([1985, 1986, 1987, 1988, 1989, 1990, 1991, 1992, 1993, 1995, 1996, 1997, 1998, 2002, 2003])"
      ]
     },
     "execution_count": 64,
     "metadata": {},
     "output_type": "execute_result"
    }
   ],
   "source": [
    "#LBJ game stats per season\n",
    "lbj_season_03_19 = {}\n",
    "\n",
    "for i in range (2004, 2020):\n",
    "    lbj_season_03_19[i] = f\"https://www.basketball-reference.com/players/j/jamesle01/gamelog/{i}/\"\n",
    "\n",
    "#MJ game stats per season, excludes the years he was in retirement\n",
    "mj_season_85_03 = {}\n",
    "\n",
    "for i in range(1985, 1994):\n",
    "    mj_season_85_03[i] = f\"https://www.basketball-reference.com/players/j/jordami01/gamelog/{i}/\"\n",
    "\n",
    "for i in range(1995,1999):\n",
    "    mj_season_85_03[i] = f\"https://www.basketball-reference.com/players/j/jordami01/gamelog/{i}/\"\n",
    "for i in range(2002, 2004):\n",
    "    mj_season_85_03[i] = f\"https://www.basketball-reference.com/players/j/jordami01/gamelog/{i}/\"\n",
    "\n",
    "mj_season_85_03.keys()\n",
    "#dictionary {year: link}"
   ]
  },
  {
   "cell_type": "code",
   "execution_count": 60,
   "metadata": {},
   "outputs": [],
   "source": [
    "#Let's store the tables as csv!\n",
    "\n",
    "def lbj_table_into_csv(year:int, columns=29, rows=90, kind='player'): #kind: 'player' or 'team'\n",
    "    '''\n",
    "    helper--------------\n",
    "    class for player stats = \"row_summable\"\n",
    "    class for team stats = \"sortable\"\n",
    "    '''\n",
    "    source = requests.get(f\"https://www.basketball-reference.com/players/j/jamesle01/gamelog/{year}/\").text\n",
    "    soup = BeautifulSoup(source, 'html.parser')\n",
    "    table = soup.find('table', id=\"pgl_basic\")\n",
    "    \n",
    "    new_table = pd.DataFrame(columns = range(1, columns+1), index= range(1, rows+1)) #specify column and rows\n",
    "    row_marker = 0\n",
    "    \n",
    "    for row in table.find_all('tr'):\n",
    "        column_marker = 0\n",
    "        columns = row.find_all('td')\n",
    "        row_marker += 1\n",
    "\n",
    "        for column in columns:\n",
    "            new_table.iat[row_marker,column_marker] = column.get_text()\n",
    "            column_marker += 1\n",
    "                    \n",
    "    player_column_names = ['g', 'date', 'age', 'tm', '',\n",
    "                        'opp', 'outcome', 'gs', 'mp', 'fg', 'fga', 'fg%',\n",
    "                        '3p', '3pa', '3p%', 'ft', 'fta', 'ft%', 'orb', 'drb',\n",
    "                        'trb', 'ast', 'stl', 'blk', 'tov', 'pf', 'pts', 'gmsc', '+/-']\n",
    "    \n",
    "#     team_column_names = ['rk', 'name', 'age', 'g', 'gs', 'mp', 'fg', 'fga', 'fg%',\n",
    "#                         '3p', '3pa', '3p%', '2p', '2p%', 'eFG%', 'ft', 'fta',\n",
    "#                         'orb', 'drb', 'trb', 'ast', 'stl', 'blk', 'tov', 'pf', 'pts/g']\n",
    "    \n",
    "    if kind == 'player':\n",
    "    \n",
    "        for i in range(0,30):\n",
    "            new_table.rename(columns={i: player_column_names[i-1]}, inplace=True)\n",
    "    \n",
    "#     if kind == 'team':\n",
    "        \n",
    "#         for i in range(0,27):\n",
    "#             new_table.rename(columns={i: team_column_names[i-1]}, inplace=True)\n",
    "    \n",
    "    result = new_table.dropna().apply(partial(pd.to_numeric, errors='ignore'))\n",
    "    \n",
    "    result.to_csv(f\"Lebron_{year}.csv\")\n",
    "    \n",
    "    return \"saved to csv!\"\n",
    "\n",
    "#This worked, but I used player_stats_to_csv instead, to keep uniform columns and structure"
   ]
  },
  {
   "cell_type": "markdown",
   "metadata": {},
   "source": [
    "#### Write a function to pull tabular data and turn into pd.df"
   ]
  },
  {
   "cell_type": "code",
   "execution_count": 4,
   "metadata": {},
   "outputs": [],
   "source": [
    "from bs4 import BeautifulSoup\n",
    "import requests\n",
    "import pandas as pd\n",
    "from functools import partial\n",
    "\n",
    "lbj_2004 = 'https://www.basketball-reference.com/players/j/jamesle01/gamelog/2004/'\n",
    "\n",
    "def table_into_df(link:str, columns:int, rows:int, kind='player'): #kind: 'player' or 'team'\n",
    "    '''\n",
    "    helper--------------\n",
    "    class for player stats = \"row_summable\"\n",
    "    class for team stats = \"sortable\"\n",
    "    '''\n",
    "    source = requests.get(link).text\n",
    "    soup = BeautifulSoup(source, 'html.parser')\n",
    "    table = soup.find('table', id=\"pgl_basic\")\n",
    "    \n",
    "    new_table = pd.DataFrame(columns = range(1, columns+1), index= range(1, rows+1)) #specify column and rows\n",
    "    row_marker = 0\n",
    "    \n",
    "    for row in table.find_all('tr'):\n",
    "        column_marker = 0\n",
    "        columns = row.find_all('td')\n",
    "        row_marker += 1\n",
    "\n",
    "        for column in columns:\n",
    "            new_table.iat[row_marker,column_marker] = column.get_text()\n",
    "            column_marker += 1\n",
    "        \n",
    "    player_column_names = ['g', 'date', 'age', 'tm', '',\n",
    "                        'opp', 'outcome', 'gs', 'mp', 'fg', 'fga', 'fg%',\n",
    "                        '3p', '3pa', '3p%', 'ft', 'fta', 'ft%', 'orb', 'drb',\n",
    "                        'trb', 'ast', 'stl', 'blk', 'tov', 'pf', 'pts', 'gmsc', '+/-']\n",
    "    \n",
    "    team_column_names = ['rk', 'name', 'age', 'g', 'gs', 'mp', 'fg', 'fga', 'fg%',\n",
    "                        '3p', '3pa', '3p%', '2p', '2p%', 'eFG%', 'ft', 'fta',\n",
    "                        'orb', 'drb', 'trb', 'ast', 'stl', 'blk', 'tov', 'pf', 'pts/g']\n",
    "    \n",
    "    if kind == 'player':\n",
    "    \n",
    "        for i in range(0,30):\n",
    "            new_table.rename(columns={i: player_column_names[i-1]}, inplace=True)\n",
    "    \n",
    "    if kind == 'team':\n",
    "        \n",
    "        for i in range(0,27):\n",
    "            new_table.rename(columns={i: team_column_names[i-1]}, inplace=True)\n",
    "    \n",
    "    return new_table.dropna().apply(partial(pd.to_numeric, errors='ignore'))\n",
    "\n",
    "#did not use"
   ]
  },
  {
   "cell_type": "code",
   "execution_count": 52,
   "metadata": {
    "scrolled": true
   },
   "outputs": [
    {
     "name": "stdout",
     "output_type": "stream",
     "text": [
      "<class 'pandas.core.frame.DataFrame'>\n",
      "Int64Index: 80 entries, 3 to 88\n",
      "Data columns (total 29 columns):\n",
      "g          80 non-null int64\n",
      "date       80 non-null object\n",
      "age        80 non-null object\n",
      "tm         80 non-null object\n",
      "           80 non-null object\n",
      "opp        80 non-null object\n",
      "outcome    80 non-null object\n",
      "gs         80 non-null int64\n",
      "mp         80 non-null object\n",
      "fg         80 non-null int64\n",
      "fga        80 non-null int64\n",
      "fg%        80 non-null float64\n",
      "3p         80 non-null int64\n",
      "3pa        80 non-null int64\n",
      "3p%        77 non-null float64\n",
      "ft         80 non-null int64\n",
      "fta        80 non-null int64\n",
      "ft%        80 non-null float64\n",
      "orb        80 non-null int64\n",
      "drb        80 non-null int64\n",
      "trb        80 non-null int64\n",
      "ast        80 non-null int64\n",
      "stl        80 non-null int64\n",
      "blk        80 non-null int64\n",
      "tov        80 non-null int64\n",
      "pf         80 non-null int64\n",
      "pts        80 non-null int64\n",
      "gmsc       80 non-null float64\n",
      "+/-        80 non-null int64\n",
      "dtypes: float64(4), int64(18), object(7)\n",
      "memory usage: 18.8+ KB\n"
     ]
    }
   ],
   "source": [
    "# 'https://www.basketball-reference.com/players/j/jamesle01/gamelog/2004/'\n",
    "\n",
    "#Can access dataframe by entering dictionary key(year)\n",
    "lbj_2005_df = table_into_df(lbj_season_03_19[2005], 29, 90)\n",
    "lbj_2005_df.info()"
   ]
  },
  {
   "cell_type": "markdown",
   "metadata": {},
   "source": [
    "### Getting game log stats for LeBron or MJ ---- why can't I `pd.to_numeric`?"
   ]
  },
  {
   "cell_type": "code",
   "execution_count": 65,
   "metadata": {},
   "outputs": [],
   "source": [
    "#This will take in link from dictionary value, but will not process to_numeric... Why?\n",
    "\n",
    "def player_per_game_to_csv(year:int, link:str):\n",
    "    \n",
    "    page = requests.get(link)\n",
    "    soup1 = BeautifulSoup(page.content, 'html.parser')\n",
    "    tables = soup1.find_all(\"table\", class_=\"row_summable\")\n",
    "\n",
    "    table = tables[0]\n",
    "    tab_data = [[cell.text for cell in row.find_all([\"th\",\"td\"])]\n",
    "                            for row in table.find_all(\"tr\")]\n",
    "    \n",
    "    df = pd.DataFrame(tab_data)\n",
    "    \n",
    "#     player_column_names = ['g', 'date', 'age', 'tm', '',\n",
    "#                         'opp', 'outcome', 'gs', 'mp', 'fg', 'fga', 'fg%',\n",
    "#                         '3p', '3pa', '3p%', 'ft', 'fta', 'ft%', 'orb', 'drb',\n",
    "#                         'trb', 'ast', 'stl', 'blk', 'tov', 'pf', 'pts', 'gmsc', '+/-']\n",
    "    \n",
    "#     for i in range(1,30):\n",
    "#             df.rename(columns={i: player_column_names[i-1]}, inplace=True)\n",
    "    \n",
    "    new_header = df.iloc[0]\n",
    "    df = df[1:]\n",
    "    df.columns = new_header\n",
    "    \n",
    "    result = df.dropna().apply(partial(pd.to_numeric, errors='ignore'))\n",
    "    \n",
    "    result.to_csv(f\"Lebron_{year}.csv\")\n",
    "    \n",
    "    return \"saved as csv!\"    "
   ]
  },
  {
   "cell_type": "markdown",
   "metadata": {},
   "source": [
    "### Collecting links for team season stats for LBJ, MJ years\n",
    "\n",
    "#### Might not need to pull this, just pull win/loss records, maybe."
   ]
  },
  {
   "cell_type": "markdown",
   "metadata": {},
   "source": [
    "## All players stats per season, specify year (eg. 2003-2004 season is year=2004)"
   ]
  },
  {
   "cell_type": "code",
   "execution_count": 62,
   "metadata": {},
   "outputs": [],
   "source": [
    "#all players stats per season\n",
    "#https://www.basketball-reference.com/leagues/NBA_2020_per_game.html\n",
    "\n",
    "def adv_all_player_avg_season(year:int):\n",
    "    \n",
    "    page = requests.get(f\"https://www.basketball-reference.com/leagues/NBA_{year}_advanced.html\")\n",
    "    soup1 = BeautifulSoup(page.content, 'html.parser')\n",
    "    tables = soup1.find_all(\"table\")\n",
    "\n",
    "    table = tables[0]\n",
    "    tab_data = [[cell.text for cell in row.find_all([\"th\",\"td\"])]\n",
    "                            for row in table.find_all(\"tr\")]\n",
    "    df = pd.DataFrame(tab_data)\n",
    "        \n",
    "    new_header = df.iloc[0]\n",
    "    df = df[1:]\n",
    "    df.columns = new_header\n",
    "    \n",
    "    final_df = df.apply(partial(pd.to_numeric, errors='ignore'))\n",
    "    \n",
    "    final_df.to_csv(f\"advanced_all_players_{year}.csv\")\n",
    "    \n",
    "    return \"saved to csv!\"\n"
   ]
  },
  {
   "cell_type": "code",
   "execution_count": 9,
   "metadata": {},
   "outputs": [],
   "source": [
    "def post_season_table_tocsv(link:str, player:str):\n",
    "    \n",
    "    page = requests.get(link)\n",
    "    soup1 = BeautifulSoup(page.content, 'html.parser')\n",
    "    tables = soup1.find_all(\"table\", id=\"pgl_basic_playoffs\")\n",
    "\n",
    "    table = tables[0]\n",
    "    tab_data = [[cell.text for cell in row.find_all([\"th\",\"td\"])]\n",
    "                            for row in table.find_all(\"tr\")]\n",
    "    df = pd.DataFrame(tab_data)\n",
    "        \n",
    "    new_header = df.iloc[0]\n",
    "    df = df[1:]\n",
    "    df.columns = new_header\n",
    "    \n",
    "    final_df = df.apply(partial(pd.to_numeric, errors='ignore'))\n",
    "    \n",
    "    final_df.to_csv(f\"{player}_postseason.csv\")\n",
    "    \n",
    "    return \"saved to csv!\""
   ]
  },
  {
   "cell_type": "code",
   "execution_count": 10,
   "metadata": {},
   "outputs": [
    {
     "data": {
      "text/plain": [
       "'saved to csv!'"
      ]
     },
     "execution_count": 10,
     "metadata": {},
     "output_type": "execute_result"
    }
   ],
   "source": [
    "lbj_ps_link = \"https://www.basketball-reference.com/players/j/jamesle01/gamelog-playoffs/\"\n",
    "mj_ps_link = \"https://www.basketball-reference.com/players/j/jordami01/gamelog-playoffs/\"\n",
    "\n",
    "post_season_table_tocsv(lbj_ps_link, player=\"Lebron\")\n",
    "post_season_table_tocsv(mj_ps_link, player=\"Michael\")"
   ]
  },
  {
   "cell_type": "code",
   "execution_count": 8,
   "metadata": {},
   "outputs": [
    {
     "name": "stdout",
     "output_type": "stream",
     "text": [
      "/Users/edwardkim/Documents/Galvanize/DSI/NBA-LBJ-vs-MJ-Capstone1\r\n"
     ]
    }
   ],
   "source": [
    "!pwd"
   ]
  },
  {
   "cell_type": "code",
   "execution_count": 63,
   "metadata": {},
   "outputs": [],
   "source": [
    "#SAVING LEAGUE STATS for LBJ years and MJ years to CSV:\n",
    "\n",
    "# for i in mj_season_85_03.keys():\n",
    "#     all_player_avg_season(i)\n",
    "\n",
    "# for j in lbj_season_03_19.keys():\n",
    "#     all_player_avg_season(j)\n",
    "\n",
    "    \n",
    "    \n",
    "    \n",
    "    \n",
    "    \n",
    "# all_p_2018['ORB'].to_numeric(errors='ignore').mean()\n",
    "\n",
    "# pd.to_numeric(all_p_2018['ORB'], errors='coerce') #specify columns\n"
   ]
  },
  {
   "cell_type": "markdown",
   "metadata": {},
   "source": [
    "# What needs to be done\n",
    "\n",
    "Challenges/Questions:\n",
    "- `pd.to_numeric` not working\n",
    "- can’t find team stats - javascript? table within table? (3rd table within tables)\n",
    "- selenium chromedriver executable path?\n",
    "- From Tomas/Hamid: store html from requests.get to MongoDB and THEN create a dataframe?\n",
    "- what about translate everything to PD DF and then to_csv? And then consolidate csv’s?"
   ]
  },
  {
   "cell_type": "markdown",
   "metadata": {},
   "source": [
    "#### Testing selenium and chromedriver..."
   ]
  },
  {
   "cell_type": "code",
   "execution_count": null,
   "metadata": {},
   "outputs": [],
   "source": [
    "!pwd"
   ]
  },
  {
   "cell_type": "code",
   "execution_count": null,
   "metadata": {},
   "outputs": [],
   "source": []
  }
 ],
 "metadata": {
  "kernelspec": {
   "display_name": "Python 3",
   "language": "python",
   "name": "python3"
  },
  "language_info": {
   "codemirror_mode": {
    "name": "ipython",
    "version": 3
   },
   "file_extension": ".py",
   "mimetype": "text/x-python",
   "name": "python",
   "nbconvert_exporter": "python",
   "pygments_lexer": "ipython3",
   "version": "3.7.4"
  }
 },
 "nbformat": 4,
 "nbformat_minor": 2
}

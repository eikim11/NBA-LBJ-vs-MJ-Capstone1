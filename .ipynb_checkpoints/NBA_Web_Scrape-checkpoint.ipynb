{
 "cells": [
  {
   "cell_type": "markdown",
   "metadata": {},
   "source": [
    "# Web Scraping basketball-reference.com"
   ]
  },
  {
   "cell_type": "code",
   "execution_count": 2,
   "metadata": {},
   "outputs": [],
   "source": [
    "from bs4 import BeautifulSoup\n",
    "import requests\n",
    "\n",
    "source = requests.get('https://www.basketball-reference.com/teams/CLE/2004.html').text"
   ]
  },
  {
   "cell_type": "markdown",
   "metadata": {},
   "source": [
    "## Web Scraping Individual Tables - Lebron Game Stats Per Season"
   ]
  },
  {
   "cell_type": "code",
   "execution_count": 7,
   "metadata": {},
   "outputs": [],
   "source": [
    "from bs4 import BeautifulSoup\n",
    "import requests\n",
    "import pandas as pd"
   ]
  },
  {
   "cell_type": "markdown",
   "metadata": {},
   "source": [
    "#### Collecting gamelog links for each season for LBJ and MJ"
   ]
  },
  {
   "cell_type": "code",
   "execution_count": 30,
   "metadata": {
    "scrolled": false
   },
   "outputs": [],
   "source": [
    "#LBJ game stats per season\n",
    "lbj_season_03_19 = {}\n",
    "\n",
    "for i in range (2003, 2020):\n",
    "    lbj_season_03_19[i] = f\"https://www.basketball-reference.com/players/j/jamesle01/gamelog/{i}/\"\n",
    "\n",
    "#MJ game stats per season\n",
    "mj_season_85_03 = {}\n",
    "\n",
    "for i in range (1985, 2004):\n",
    "    mj_season_85_03[i] = f\"https://www.basketball-reference.com/players/j/jordami01/gamelog/{i}/\"\n",
    "\n",
    "#dictionary {year: link}"
   ]
  },
  {
   "cell_type": "markdown",
   "metadata": {},
   "source": [
    "#### Write a function to pull tabular data and turn into pd.df"
   ]
  },
  {
   "cell_type": "code",
   "execution_count": 44,
   "metadata": {},
   "outputs": [],
   "source": [
    "from bs4 import BeautifulSoup\n",
    "import requests\n",
    "import pandas as pd\n",
    "from functools import partial\n",
    "\n",
    "lbj_2004 = 'https://www.basketball-reference.com/players/j/jamesle01/gamelog/2004/'\n",
    "\n",
    "def table_into_df(link:str, columns:int, rows:int, kind='player'): #kind: 'player' or 'team'\n",
    "    '''\n",
    "    helper--------------\n",
    "    class for player stats = \"row_summable\"\n",
    "    class for team stats = \"sortable\"\n",
    "    '''\n",
    "    source = requests.get(link).text\n",
    "    soup = BeautifulSoup(source, 'html.parser')\n",
    "    table = soup.find('table', id=\"pgl_basic\")\n",
    "    \n",
    "    new_table = pd.DataFrame(columns = range(1, columns+1), index= range(1, rows+1)) #specify column and rows\n",
    "    row_marker = 0\n",
    "    \n",
    "    for row in table.find_all('tr'):\n",
    "        column_marker = 0\n",
    "        columns = row.find_all('td')\n",
    "        row_marker += 1\n",
    "\n",
    "        for column in columns:\n",
    "            new_table.iat[row_marker,column_marker] = column.get_text()\n",
    "            column_marker += 1\n",
    "        \n",
    "    player_column_names = ['g', 'date', 'age', 'tm', '',\n",
    "                        'opp', 'outcome', 'gs', 'mp', 'fg', 'fga', 'fg%',\n",
    "                        '3p', '3pa', '3p%', 'ft', 'fta', 'ft%', 'orb', 'drb',\n",
    "                        'trb', 'ast', 'stl', 'blk', 'tov', 'pf', 'pts', 'gmsc', '+/-']\n",
    "    \n",
    "    team_column_names = ['rk', 'name', 'age', 'g', 'gs', 'mp', 'fg', 'fga', 'fg%',\n",
    "                        '3p', '3pa', '3p%', '2p', '2p%', 'eFG%', 'ft', 'fta',\n",
    "                        'orb', 'drb', 'trb', 'ast', 'stl', 'blk', 'tov', 'pf', 'pts/g']\n",
    "    \n",
    "    if kind == 'player':\n",
    "    \n",
    "        for i in range(0,30):\n",
    "            new_table.rename(columns={i: player_column_names[i-1]}, inplace=True)\n",
    "    \n",
    "    if kind == 'team':\n",
    "        \n",
    "        for i in range(0,27):\n",
    "            new_table.rename(columns={i: team_column_names[i-1]}, inplace=True)\n",
    "    \n",
    "    return new_table.dropna().apply(partial(pd.to_numeric, errors='ignore'))\n",
    "\n",
    "#This prints out a single DF for player or team's season(1)\n",
    "\n",
    "#ISSUE: will not take link from dictionary values... why?"
   ]
  },
  {
   "cell_type": "code",
   "execution_count": 52,
   "metadata": {
    "scrolled": true
   },
   "outputs": [
    {
     "name": "stdout",
     "output_type": "stream",
     "text": [
      "<class 'pandas.core.frame.DataFrame'>\n",
      "Int64Index: 80 entries, 3 to 88\n",
      "Data columns (total 29 columns):\n",
      "g          80 non-null int64\n",
      "date       80 non-null object\n",
      "age        80 non-null object\n",
      "tm         80 non-null object\n",
      "           80 non-null object\n",
      "opp        80 non-null object\n",
      "outcome    80 non-null object\n",
      "gs         80 non-null int64\n",
      "mp         80 non-null object\n",
      "fg         80 non-null int64\n",
      "fga        80 non-null int64\n",
      "fg%        80 non-null float64\n",
      "3p         80 non-null int64\n",
      "3pa        80 non-null int64\n",
      "3p%        77 non-null float64\n",
      "ft         80 non-null int64\n",
      "fta        80 non-null int64\n",
      "ft%        80 non-null float64\n",
      "orb        80 non-null int64\n",
      "drb        80 non-null int64\n",
      "trb        80 non-null int64\n",
      "ast        80 non-null int64\n",
      "stl        80 non-null int64\n",
      "blk        80 non-null int64\n",
      "tov        80 non-null int64\n",
      "pf         80 non-null int64\n",
      "pts        80 non-null int64\n",
      "gmsc       80 non-null float64\n",
      "+/-        80 non-null int64\n",
      "dtypes: float64(4), int64(18), object(7)\n",
      "memory usage: 18.8+ KB\n"
     ]
    }
   ],
   "source": [
    "# 'https://www.basketball-reference.com/players/j/jamesle01/gamelog/2004/'\n",
    "\n",
    "#Can access dataframe by entering dictionary key(year)\n",
    "lbj_2005_df = table_into_df(lbj_season_03_19[2005], 29, 90)\n",
    "lbj_2005_df.info()"
   ]
  },
  {
   "cell_type": "markdown",
   "metadata": {},
   "source": [
    "### Getting game log stats for LeBron or MJ ---- why can't I `pd.to_numeric`?"
   ]
  },
  {
   "cell_type": "code",
   "execution_count": 28,
   "metadata": {},
   "outputs": [],
   "source": [
    "#This will take in link from dictionary value, but will not process to_numeric... Why?\n",
    "\n",
    "def player_per_game(link:str):\n",
    "    \n",
    "    page = requests.get(link)\n",
    "    soup1 = BeautifulSoup(page.content, 'html.parser')\n",
    "    tables = soup1.find_all(\"table\", class_=\"row_summable\")\n",
    "\n",
    "    table = tables[0]\n",
    "    tab_data = [[cell.text for cell in row.find_all([\"th\",\"td\"])]\n",
    "                            for row in table.find_all(\"tr\")]\n",
    "    \n",
    "    df = pd.DataFrame(tab_data)\n",
    "    \n",
    "#     player_column_names = ['g', 'date', 'age', 'tm', '',\n",
    "#                         'opp', 'outcome', 'gs', 'mp', 'fg', 'fga', 'fg%',\n",
    "#                         '3p', '3pa', '3p%', 'ft', 'fta', 'ft%', 'orb', 'drb',\n",
    "#                         'trb', 'ast', 'stl', 'blk', 'tov', 'pf', 'pts', 'gmsc', '+/-']\n",
    "    \n",
    "#     for i in range(1,30):\n",
    "#             df.rename(columns={i: player_column_names[i-1]}, inplace=True)\n",
    "    \n",
    "    new_header = df.iloc[0]\n",
    "    df = df[1:]\n",
    "    df.columns = new_header\n",
    "    \n",
    "    return df.dropna().apply(partial(pd.to_numeric, errors='ignore'))"
   ]
  },
  {
   "cell_type": "code",
   "execution_count": 29,
   "metadata": {
    "scrolled": true
   },
   "outputs": [
    {
     "name": "stdout",
     "output_type": "stream",
     "text": [
      "<class 'pandas.core.frame.DataFrame'>\n",
      "Int64Index: 83 entries, 1 to 86\n",
      "Data columns (total 30 columns):\n",
      "Rk      83 non-null object\n",
      "G       83 non-null object\n",
      "Date    83 non-null object\n",
      "Age     83 non-null object\n",
      "Tm      83 non-null object\n",
      "        83 non-null object\n",
      "Opp     83 non-null object\n",
      "        83 non-null object\n",
      "GS      83 non-null object\n",
      "MP      83 non-null object\n",
      "FG      83 non-null object\n",
      "FGA     83 non-null object\n",
      "FG%     83 non-null object\n",
      "3P      83 non-null object\n",
      "3PA     83 non-null object\n",
      "3P%     83 non-null object\n",
      "FT      83 non-null object\n",
      "FTA     83 non-null object\n",
      "FT%     83 non-null object\n",
      "ORB     83 non-null object\n",
      "DRB     83 non-null object\n",
      "TRB     83 non-null object\n",
      "AST     83 non-null object\n",
      "STL     83 non-null object\n",
      "BLK     83 non-null object\n",
      "TOV     83 non-null object\n",
      "PF      83 non-null object\n",
      "PTS     83 non-null object\n",
      "GmSc    83 non-null object\n",
      "+/-     83 non-null object\n",
      "dtypes: object(30)\n",
      "memory usage: 20.1+ KB\n"
     ]
    }
   ],
   "source": [
    "test_2004 = player_per_game(lbj_season_03_19[2004])\n",
    "\n",
    "test_2004.info()"
   ]
  },
  {
   "cell_type": "markdown",
   "metadata": {},
   "source": [
    "### Collecting links for team season stats for LBJ, MJ years\n",
    "\n",
    "#### Might not need to pull this, just pull win/loss records, maybe."
   ]
  },
  {
   "cell_type": "code",
   "execution_count": 15,
   "metadata": {},
   "outputs": [
    {
     "name": "stdout",
     "output_type": "stream",
     "text": [
      "# of teams: 30\n",
      "# of team stats LBJ years: 510\n",
      "# of team stats MJ years: 600\n"
     ]
    }
   ],
   "source": [
    "teams = ['ATL', 'BOS', 'NJN', 'CHA', 'CHI', 'CLE', 'DAL',\n",
    "        'DEN', 'DET', 'GSW', 'HOU', 'IND', 'LAC', 'LAL', 'MEM',\n",
    "        'MIA', 'MIL', 'MIN', 'NOH', 'NYK', 'OKC', 'ORL',\n",
    "        'PHI', 'PHO', 'POR', 'SAC', 'SAS', 'TOR', 'UTA', 'WAS']\n",
    "#sanity check\n",
    "print(\"# of teams:\", len(teams))\n",
    "\n",
    "Lebron_years = list(range(2003, 2020))\n",
    "MJ_years = list(range(1984, 2004))\n",
    "\n",
    "#team stats URL for Lebron Years\n",
    "teams_Lebron_years = []\n",
    "for year in Lebron_years:\n",
    "    for team in teams:\n",
    "        teams_Lebron_years.append(f\"https://basketball-reference.com/teams/{team}/{year}.html#all_per_game\")\n",
    "        \n",
    "#team stats URL for Michael years\n",
    "teams_MJ_years = []\n",
    "for year in MJ_years:\n",
    "    for team in teams:\n",
    "        teams_MJ_years.append(f\"https://basketball-reference.com/teams/{team}/{year}.html#all_per_game\")\n",
    "\n",
    "print(\"# of team stats LBJ years:\", len(teams_Lebron_years))\n",
    "print(\"# of team stats MJ years:\", len(teams_MJ_years))"
   ]
  },
  {
   "cell_type": "code",
   "execution_count": 72,
   "metadata": {
    "scrolled": true
   },
   "outputs": [
    {
     "name": "stdout",
     "output_type": "stream",
     "text": [
      "<div class=\"table_wrapper setup_commented commented\" id=\"all_per_game\">\n",
      "<div class=\"section_heading\">\n",
      "<span class=\"section_anchor\" data-label=\"Per Game\" id=\"per_game_link\"></span><h2>Per Game</h2> <div class=\"section_heading_text\">\n",
      "<ul>\n",
      "</ul>\n",
      "</div>\n",
      "</div>\n",
      "<div class=\"placeholder\"></div>\n",
      "<!--\n",
      "   <div class=\"table_outer_container\">\n",
      "      <div class=\"overthrow table_container\" id=\"div_per_game\">\n",
      "\t  \n",
      "  <table class=\"sortable stats_table\" id=\"per_game\" data-cols-to-freeze=\"2\"><caption>Per Game Table</caption>\n",
      "   <colgroup><col><col><col><col><col><col><col><col><col><col><col><col><col><col><col><col><col><col><col><col><col><col><col><col><col><col><col><col></colgroup>\n",
      "   <thead>      \n",
      "      <tr>\n",
      "         <th aria-label=\"Rank\" data-stat=\"ranker\" scope=\"col\" class=\"ranker poptip sort_default_asc show_partial_when_sorting center\" data-tip=\"Rank\" >Rk</th>\n",
      "         <th aria-label=\"&nbsp;\" data-stat=\"player\" scope=\"col\" class=\" poptip sort_default_asc center\" >&nbsp;</th>\n",
      "         <th aria-label=\"Player's age on February 1 of the season\" data-stat=\"age\" scope=\"col\" class=\" poptip sort_default_asc center\" data-tip=\"Player's age on February 1 of the season\" >Age</th>\n",
      "         <th aria-label=\"Games\" data-stat=\"g\" scope=\"col\" class=\" poptip center\" data-tip=\"Games\" >G</th>\n",
      "         <th aria-label=\"Games Started\" data-stat=\"gs\" scope=\"col\" class=\" poptip center\" data-tip=\"Games Started\" >GS</th>\n",
      "         <th aria-label=\"Minutes Played Per Game\" data-stat=\"mp_per_g\" scope=\"col\" class=\" poptip center\" data-tip=\"Minutes Played Per Game\" >MP</th>\n",
      "         <th aria-label=\"Field Goals Per Game\" data-stat=\"fg_per_g\" scope=\"col\" class=\" poptip center\" data-tip=\"Field Goals Per Game\" >FG</th>\n",
      "         <th aria-label=\"Field Goal Attempts Per Game\" data-stat=\"fga_per_g\" scope=\"col\" class=\" poptip center\" data-tip=\"Field Goal Attempts Per Game\" >FGA</th>\n",
      "         <th aria-label=\"Field Goal Percentage\" data-stat=\"fg_pct\" scope=\"col\" class=\" poptip center\" data-tip=\"Field Goal Percentage\" >FG%</th>\n",
      "         <th aria-label=\"3-Point Field Goals Per Game\" data-stat=\"fg3_per_g\" scope=\"col\" class=\" poptip center\" data-tip=\"3-Point Field Goals Per Game\" >3P</th>\n",
      "         <th aria-label=\"3-Point Field Goal Attempts Per Game\" data-stat=\"fg3a_per_g\" scope=\"col\" class=\" poptip center\" data-tip=\"3-Point Field Goal Attempts Per Game\" >3PA</th>\n",
      "         <th aria-label=\"3-Point Field Goal Percentage\" data-stat=\"fg3_pct\" scope=\"col\" class=\" poptip center\" data-tip=\"3-Point Field Goal Percentage\" >3P%</th>\n",
      "         <th aria-label=\"2-Point Field Goals Per Game\" data-stat=\"fg2_per_g\" scope=\"col\" class=\" poptip center\" data-tip=\"2-Point Field Goals Per Game\" >2P</th>\n",
      "         <th aria-label=\"2-Point Field Goal Attempts Per Game\" data-stat=\"fg2a_per_g\" scope=\"col\" class=\" poptip center\" data-tip=\"2-Point Field Goal Attempts Per Game\" >2PA</th>\n",
      "         <th aria-label=\"2-Point Field Goal Percentage\" data-stat=\"fg2_pct\" scope=\"col\" class=\" poptip center\" data-tip=\"2-Point Field Goal Percentage\" >2P%</th>\n",
      "         <th aria-label=\"Effective Field Goal Percentage\" data-stat=\"efg_pct\" scope=\"col\" class=\" poptip center\" data-tip=\"<strong>Effective Field Goal Percentage</strong><br>This statistic adjusts for the fact that a 3-point field goal is worth one more point than a 2-point field goal.\" >eFG%</th>\n",
      "         <th aria-label=\"Free Throws Per Game\" data-stat=\"ft_per_g\" scope=\"col\" class=\" poptip center\" data-tip=\"Free Throws Per Game\" >FT</th>\n",
      "         <th aria-label=\"Free Throw Attempts Per Game\" data-stat=\"fta_per_g\" scope=\"col\" class=\" poptip center\" data-tip=\"Free Throw Attempts Per Game\" >FTA</th>\n",
      "         <th aria-label=\"Free Throw Percentage\" data-stat=\"ft_pct\" scope=\"col\" class=\" poptip center\" data-tip=\"Free Throw Percentage\" >FT%</th>\n",
      "         <th aria-label=\"Offensive Rebounds Per Game\" data-stat=\"orb_per_g\" scope=\"col\" class=\" poptip center\" data-tip=\"Offensive Rebounds Per Game\" >ORB</th>\n",
      "         <th aria-label=\"Defensive Rebounds Per Game\" data-stat=\"drb_per_g\" scope=\"col\" class=\" poptip center\" data-tip=\"Defensive Rebounds Per Game\" >DRB</th>\n",
      "         <th aria-label=\"Total Rebounds Per Game\" data-stat=\"trb_per_g\" scope=\"col\" class=\" poptip center\" data-tip=\"Total Rebounds Per Game\" >TRB</th>\n",
      "         <th aria-label=\"Assists Per Game\" data-stat=\"ast_per_g\" scope=\"col\" class=\" poptip center\" data-tip=\"Assists Per Game\" >AST</th>\n",
      "         <th aria-label=\"Steals Per Game\" data-stat=\"stl_per_g\" scope=\"col\" class=\" poptip center\" data-tip=\"Steals Per Game\" >STL</th>\n",
      "         <th aria-label=\"Blocks Per Game\" data-stat=\"blk_per_g\" scope=\"col\" class=\" poptip center\" data-tip=\"Blocks Per Game\" >BLK</th>\n",
      "         <th aria-label=\"Turnovers Per Game\" data-stat=\"tov_per_g\" scope=\"col\" class=\" poptip center\" data-tip=\"Turnovers Per Game\" >TOV</th>\n",
      "         <th aria-label=\"Personal Fouls Per Game\" data-stat=\"pf_per_g\" scope=\"col\" class=\" poptip center\" data-tip=\"Personal Fouls Per Game\" >PF</th>\n",
      "         <th aria-label=\"Points Per Game\" data-stat=\"pts_per_g\" scope=\"col\" class=\" poptip center\" data-tip=\"Points Per Game\" >PTS/G</th>\n",
      "      </tr>\n",
      "      \n",
      "   </thead>\n",
      "   <tbody>\n",
      "<tr ><th scope=\"row\" class=\"center \" data-stat=\"ranker\" csk=\"1\" >1</th><td class=\"left \" data-append-csv=\"abdursh01\" data-stat=\"player\" csk=\"Abdur-Rahim,Shareef\" ><a href=\"/players/a/abdursh01.html\">Shareef Abdur-Rahim</a></td><td class=\"center \" data-stat=\"age\" >26</td><td class=\"right \" data-stat=\"g\" ><a href=\"/players/a/abdursh01/gamelog/2003/\">81</a></td><td class=\"right \" data-stat=\"gs\" >81</td><td class=\"right \" data-stat=\"mp_per_g\" >38.1</td><td class=\"right \" data-stat=\"fg_per_g\" >7.0</td><td class=\"right \" data-stat=\"fga_per_g\" >14.6</td><td class=\"right \" data-stat=\"fg_pct\" >.478</td><td class=\"right \" data-stat=\"fg3_per_g\" >0.3</td><td class=\"right \" data-stat=\"fg3a_per_g\" >0.7</td><td class=\"right \" data-stat=\"fg3_pct\" >.350</td><td class=\"right \" data-stat=\"fg2_per_g\" >6.7</td><td class=\"right \" data-stat=\"fg2a_per_g\" >13.9</td><td class=\"right \" data-stat=\"fg2_pct\" >.485</td><td class=\"right \" data-stat=\"efg_pct\" >.487</td><td class=\"right \" data-stat=\"ft_per_g\" >5.6</td><td class=\"right \" data-stat=\"fta_per_g\" >6.7</td><td class=\"right \" data-stat=\"ft_pct\" >.841</td><td class=\"right \" data-stat=\"orb_per_g\" >2.2</td><td class=\"right \" data-stat=\"drb_per_g\" >6.2</td><td class=\"right \" data-stat=\"trb_per_g\" >8.4</td><td class=\"right \" data-stat=\"ast_per_g\" >3.0</td><td class=\"right \" data-stat=\"stl_per_g\" >1.1</td><td class=\"right \" data-stat=\"blk_per_g\" >0.5</td><td class=\"right \" data-stat=\"tov_per_g\" >2.6</td><td class=\"right \" data-stat=\"pf_per_g\" >3.0</td><td class=\"right \" data-stat=\"pts_per_g\" >19.9</td></tr>\n",
      "<tr ><th scope=\"row\" class=\"center \" data-stat=\"ranker\" csk=\"2\" >2</th><td class=\"left \" data-append-csv=\"terryja01\" data-stat=\"player\" csk=\"Terry,Jason\" ><a href=\"/players/t/terryja01.html\">Jason Terry</a></td><td class=\"center \" data-stat=\"age\" >25</td><td class=\"right \" data-stat=\"g\" ><a href=\"/players/t/terryja01/gamelog/2003/\">81</a></td><td class=\"right \" data-stat=\"gs\" >81</td><td class=\"right \" data-stat=\"mp_per_g\" >38.0</td><td class=\"right \" data-stat=\"fg_per_g\" >6.0</td><td class=\"right \" data-stat=\"fga_per_g\" >14.1</td><td class=\"right \" data-stat=\"fg_pct\" >.428</td><td class=\"right \" data-stat=\"fg3_per_g\" >2.0</td><td class=\"right \" data-stat=\"fg3a_per_g\" >5.3</td><td class=\"right \" data-stat=\"fg3_pct\" >.371</td><td class=\"right \" data-stat=\"fg2_per_g\" >4.0</td><td class=\"right \" data-stat=\"fg2a_per_g\" >8.8</td><td class=\"right \" data-stat=\"fg2_pct\" >.462</td><td class=\"right \" data-stat=\"efg_pct\" >.498</td><td class=\"right \" data-stat=\"ft_per_g\" >3.2</td><td class=\"right \" data-stat=\"fta_per_g\" >3.6</td><td class=\"right \" data-stat=\"ft_pct\" >.887</td><td class=\"right \" data-stat=\"orb_per_g\" >0.5</td><td class=\"right \" data-stat=\"drb_per_g\" >3.0</td><td class=\"right \" data-stat=\"trb_per_g\" >3.4</td><td class=\"right \" data-stat=\"ast_per_g\" >7.4</td><td class=\"right \" data-stat=\"stl_per_g\" >1.6</td><td class=\"right \" data-stat=\"blk_per_g\" >0.2</td><td class=\"right \" data-stat=\"tov_per_g\" >3.1</td><td class=\"right \" data-stat=\"pf_per_g\" >2.2</td><td class=\"right \" data-stat=\"pts_per_g\" >17.2</td></tr>\n",
      "<tr ><th scope=\"row\" class=\"center \" data-stat=\"ranker\" csk=\"3\" >3</th><td class=\"left \" data-append-csv=\"robingl01\" data-stat=\"player\" csk=\"Robinson,Glenn\" ><a href=\"/players/r/robingl01.html\">Glenn Robinson</a></td><td class=\"center \" data-stat=\"age\" >30</td><td class=\"right \" data-stat=\"g\" ><a href=\"/players/r/robingl01/gamelog/2003/\">69</a></td><td class=\"right \" data-stat=\"gs\" >68</td><td class=\"right \" data-stat=\"mp_per_g\" >37.6</td><td class=\"right \" data-stat=\"fg_per_g\" >7.8</td><td class=\"right \" data-stat=\"fga_per_g\" >18.1</td><td class=\"right \" data-stat=\"fg_pct\" >.432</td><td class=\"right \" data-stat=\"fg3_per_g\" >1.3</td><td class=\"right \" data-stat=\"fg3a_per_g\" >3.8</td><td class=\"right \" data-stat=\"fg3_pct\" >.342</td><td class=\"right \" data-stat=\"fg2_per_g\" >6.5</td><td class=\"right \" data-stat=\"fg2a_per_g\" >14.3</td><td class=\"right \" data-stat=\"fg2_pct\" >.456</td><td class=\"right \" data-stat=\"efg_pct\" >.468</td><td class=\"right \" data-stat=\"ft_per_g\" >3.9</td><td class=\"right \" data-stat=\"fta_per_g\" >4.4</td><td class=\"right \" data-stat=\"ft_pct\" >.876</td><td class=\"right \" data-stat=\"orb_per_g\" >1.2</td><td class=\"right \" data-stat=\"drb_per_g\" >5.4</td><td class=\"right \" data-stat=\"trb_per_g\" >6.6</td><td class=\"right \" data-stat=\"ast_per_g\" >3.0</td><td class=\"right \" data-stat=\"stl_per_g\" >1.3</td><td class=\"right \" data-stat=\"blk_per_g\" >0.4</td><td class=\"right \" data-stat=\"tov_per_g\" >3.6</td><td class=\"right \" data-stat=\"pf_per_g\" >2.7</td><td class=\"right \" data-stat=\"pts_per_g\" >20.8</td></tr>\n",
      "<tr ><th scope=\"row\" class=\"center \" data-stat=\"ranker\" csk=\"4\" >4</th><td class=\"left \" data-append-csv=\"ratlith01\" data-stat=\"player\" csk=\"Ratliff,Theo\" ><a href=\"/players/r/ratlith01.html\">Theo Ratliff</a></td><td class=\"center \" data-stat=\"age\" >29</td><td class=\"right \" data-stat=\"g\" ><a href=\"/players/r/ratlith01/gamelog/2003/\">81</a></td><td class=\"right \" data-stat=\"gs\" >81</td><td class=\"right \" data-stat=\"mp_per_g\" >31.1</td><td class=\"right \" data-stat=\"fg_per_g\" >3.4</td><td class=\"right \" data-stat=\"fga_per_g\" >7.3</td><td class=\"right \" data-stat=\"fg_pct\" >.464</td><td class=\"right \" data-stat=\"fg3_per_g\" >0.0</td><td class=\"right \" data-stat=\"fg3a_per_g\" >0.0</td><td class=\"right iz\" data-stat=\"fg3_pct\" ></td><td class=\"right \" data-stat=\"fg2_per_g\" >3.4</td><td class=\"right \" data-stat=\"fg2a_per_g\" >7.3</td><td class=\"right \" data-stat=\"fg2_pct\" >.464</td><td class=\"right \" data-stat=\"efg_pct\" >.464</td><td class=\"right \" data-stat=\"ft_per_g\" >1.9</td><td class=\"right \" data-stat=\"fta_per_g\" >2.6</td><td class=\"right \" data-stat=\"ft_pct\" >.720</td><td class=\"right \" data-stat=\"orb_per_g\" >1.9</td><td class=\"right \" data-stat=\"drb_per_g\" >5.6</td><td class=\"right \" data-stat=\"trb_per_g\" >7.5</td><td class=\"right \" data-stat=\"ast_per_g\" >0.9</td><td class=\"right \" data-stat=\"stl_per_g\" >0.7</td><td class=\"right \" data-stat=\"blk_per_g\" >3.2</td><td class=\"right \" data-stat=\"tov_per_g\" >1.7</td><td class=\"right \" data-stat=\"pf_per_g\" >3.3</td><td class=\"right \" data-stat=\"pts_per_g\" >8.7</td></tr>\n",
      "<tr ><th scope=\"row\" class=\"center \" data-stat=\"ranker\" csk=\"5\" >5</th><td class=\"left \" data-append-csv=\"newblir01\" data-stat=\"player\" csk=\"Newble,Ira\" ><a href=\"/players/n/newblir01.html\">Ira Newble</a></td><td class=\"center \" data-stat=\"age\" >28</td><td class=\"right \" data-stat=\"g\" ><a href=\"/players/n/newblir01/gamelog/2003/\">73</a></td><td class=\"right \" data-stat=\"gs\" >45</td><td class=\"right \" data-stat=\"mp_per_g\" >26.5</td><td class=\"right \" data-stat=\"fg_per_g\" >3.2</td><td class=\"right \" data-stat=\"fga_per_g\" >6.4</td><td class=\"right \" data-stat=\"fg_pct\" >.495</td><td class=\"right \" data-stat=\"fg3_per_g\" >0.4</td><td class=\"right \" data-stat=\"fg3a_per_g\" >1.2</td><td class=\"right \" data-stat=\"fg3_pct\" >.381</td><td class=\"right \" data-stat=\"fg2_per_g\" >2.7</td><td class=\"right \" data-stat=\"fg2a_per_g\" >5.2</td><td class=\"right \" data-stat=\"fg2_pct\" >.520</td><td class=\"right \" data-stat=\"efg_pct\" >.529</td><td class=\"right \" data-stat=\"ft_per_g\" >1.0</td><td class=\"right \" data-stat=\"fta_per_g\" >1.2</td><td class=\"right \" data-stat=\"ft_pct\" >.778</td><td class=\"right \" data-stat=\"orb_per_g\" >1.2</td><td class=\"right \" data-stat=\"drb_per_g\" >2.5</td><td class=\"right \" data-stat=\"trb_per_g\" >3.7</td><td class=\"right \" data-stat=\"ast_per_g\" >1.4</td><td class=\"right \" data-stat=\"stl_per_g\" >0.7</td><td class=\"right \" data-stat=\"blk_per_g\" >0.4</td><td class=\"right \" data-stat=\"tov_per_g\" >0.9</td><td class=\"right \" data-stat=\"pf_per_g\" >2.4</td><td class=\"right \" data-stat=\"pts_per_g\" >7.7</td></tr>\n",
      "<tr ><th scope=\"row\" class=\"center \" data-stat=\"ranker\" csk=\"6\" >6</th><td class=\"left \" data-append-csv=\"glovedi01\" data-stat=\"player\" csk=\"Glover,Dion\" ><a href=\"/players/g/glovedi01.html\">Dion Glover</a></td><td class=\"center \" data-stat=\"age\" >24</td><td class=\"right \" data-stat=\"g\" ><a href=\"/players/g/glovedi01/gamelog/2003/\">76</a></td><td class=\"right \" data-stat=\"gs\" >42</td><td class=\"right \" data-stat=\"mp_per_g\" >24.9</td><td class=\"right \" data-stat=\"fg_per_g\" >3.6</td><td class=\"right \" data-stat=\"fga_per_g\" >8.5</td><td class=\"right \" data-stat=\"fg_pct\" >.427</td><td class=\"right \" data-stat=\"fg3_per_g\" >0.7</td><td class=\"right \" data-stat=\"fg3a_per_g\" >2.1</td><td class=\"right \" data-stat=\"fg3_pct\" >.354</td><td class=\"right \" data-stat=\"fg2_per_g\" >2.9</td><td class=\"right \" data-stat=\"fg2a_per_g\" >6.4</td><td class=\"right \" data-stat=\"fg2_pct\" >.451</td><td class=\"right \" data-stat=\"efg_pct\" >.471</td><td class=\"right \" data-stat=\"ft_per_g\" >1.7</td><td class=\"right \" data-stat=\"fta_per_g\" >2.1</td><td class=\"right \" data-stat=\"ft_pct\" >.784</td><td class=\"right \" data-stat=\"orb_per_g\" >0.8</td><td class=\"right \" data-stat=\"drb_per_g\" >2.9</td><td class=\"right \" data-stat=\"trb_per_g\" >3.7</td><td class=\"right \" data-stat=\"ast_per_g\" >1.9</td><td class=\"right \" data-stat=\"stl_per_g\" >0.9</td><td class=\"right \" data-stat=\"blk_per_g\" >0.2</td><td class=\"right \" data-stat=\"tov_per_g\" >1.4</td><td class=\"right \" data-stat=\"pf_per_g\" >1.9</td><td class=\"right \" data-stat=\"pts_per_g\" >9.7</td></tr>\n",
      "<tr ><th scope=\"row\" class=\"center \" data-stat=\"ranker\" csk=\"7\" >7</th><td class=\"left \" data-append-csv=\"wilksmi01\" data-stat=\"player\" csk=\"Wilks,Mike\" ><a href=\"/players/w/wilksmi01.html\">Mike Wilks</a></td><td class=\"center \" data-stat=\"age\" >23</td><td class=\"right \" data-stat=\"g\" ><a href=\"/players/w/wilksmi01/gamelog/2003/\">15</a></td><td class=\"right \" data-stat=\"gs\" >7</td><td class=\"right \" data-stat=\"mp_per_g\" >24.3</td><td class=\"right \" data-stat=\"fg_per_g\" >1.9</td><td class=\"right \" data-stat=\"fga_per_g\" >5.4</td><td class=\"right \" data-stat=\"fg_pct\" >.358</td><td class=\"right \" data-stat=\"fg3_per_g\" >0.4</td><td class=\"right \" data-stat=\"fg3a_per_g\" >1.1</td><td class=\"right \" data-stat=\"fg3_pct\" >.353</td><td class=\"right \" data-stat=\"fg2_per_g\" >1.5</td><td class=\"right \" data-stat=\"fg2a_per_g\" >4.3</td><td class=\"right \" data-stat=\"fg2_pct\" >.359</td><td class=\"right \" data-stat=\"efg_pct\" >.395</td><td class=\"right \" data-stat=\"ft_per_g\" >1.4</td><td class=\"right \" data-stat=\"fta_per_g\" >1.9</td><td class=\"right \" data-stat=\"ft_pct\" >.724</td><td class=\"right \" data-stat=\"orb_per_g\" >0.6</td><td class=\"right \" data-stat=\"drb_per_g\" >2.1</td><td class=\"right \" data-stat=\"trb_per_g\" >2.7</td><td class=\"right \" data-stat=\"ast_per_g\" >2.8</td><td class=\"right \" data-stat=\"stl_per_g\" >1.1</td><td class=\"right \" data-stat=\"blk_per_g\" >0.1</td><td class=\"right \" data-stat=\"tov_per_g\" >1.1</td><td class=\"right \" data-stat=\"pf_per_g\" >2.5</td><td class=\"right \" data-stat=\"pts_per_g\" >5.7</td></tr>\n",
      "<tr ><th scope=\"row\" class=\"center \" data-stat=\"ranker\" csk=\"8\" >8</th><td class=\"left \" data-append-csv=\"hendeal01\" data-stat=\"player\" csk=\"Henderson,Alan\" ><a href=\"/players/h/hendeal01.html\">Alan Henderson</a></td><td class=\"center \" data-stat=\"age\" >30</td><td class=\"right \" data-stat=\"g\" ><a href=\"/players/h/hendeal01/gamelog/2003/\">82</a></td><td class=\"right \" data-stat=\"gs\" >3</td><td class=\"right \" data-stat=\"mp_per_g\" >18.2</td><td class=\"right \" data-stat=\"fg_per_g\" >1.9</td><td class=\"right \" data-stat=\"fga_per_g\" >4.0</td><td class=\"right \" data-stat=\"fg_pct\" >.468</td><td class=\"right \" data-stat=\"fg3_per_g\" >0.0</td><td class=\"right \" data-stat=\"fg3a_per_g\" >0.0</td><td class=\"right \" data-stat=\"fg3_pct\" >.000</td><td class=\"right \" data-stat=\"fg2_per_g\" >1.9</td><td class=\"right \" data-stat=\"fg2a_per_g\" >4.0</td><td class=\"right \" data-stat=\"fg2_pct\" >.471</td><td class=\"right \" data-stat=\"efg_pct\" >.468</td><td class=\"right \" data-stat=\"ft_per_g\" >1.1</td><td class=\"right \" data-stat=\"fta_per_g\" >1.7</td><td class=\"right \" data-stat=\"ft_pct\" >.638</td><td class=\"right \" data-stat=\"orb_per_g\" >1.9</td><td class=\"right \" data-stat=\"drb_per_g\" >3.0</td><td class=\"right \" data-stat=\"trb_per_g\" >4.9</td><td class=\"right \" data-stat=\"ast_per_g\" >0.5</td><td class=\"right \" data-stat=\"stl_per_g\" >0.4</td><td class=\"right \" data-stat=\"blk_per_g\" >0.4</td><td class=\"right \" data-stat=\"tov_per_g\" >0.7</td><td class=\"right \" data-stat=\"pf_per_g\" >2.0</td><td class=\"right \" data-stat=\"pts_per_g\" >4.8</td></tr>\n",
      "<tr ><th scope=\"row\" class=\"center \" data-stat=\"ranker\" csk=\"9\" >9</th><td class=\"left \" data-append-csv=\"benjaco01\" data-stat=\"player\" csk=\"Benjamin,Corey\" ><a href=\"/players/b/benjaco01.html\">Corey Benjamin</a></td><td class=\"center \" data-stat=\"age\" >24</td><td class=\"right \" data-stat=\"g\" ><a href=\"/players/b/benjaco01/gamelog/2003/\">9</a></td><td class=\"right iz\" data-stat=\"gs\" >0</td><td class=\"right \" data-stat=\"mp_per_g\" >16.9</td><td class=\"right \" data-stat=\"fg_per_g\" >1.4</td><td class=\"right \" data-stat=\"fga_per_g\" >4.8</td><td class=\"right \" data-stat=\"fg_pct\" >.302</td><td class=\"right \" data-stat=\"fg3_per_g\" >0.2</td><td class=\"right \" data-stat=\"fg3a_per_g\" >1.4</td><td class=\"right \" data-stat=\"fg3_pct\" >.154</td><td class=\"right \" data-stat=\"fg2_per_g\" >1.2</td><td class=\"right \" data-stat=\"fg2a_per_g\" >3.3</td><td class=\"right \" data-stat=\"fg2_pct\" >.367</td><td class=\"right \" data-stat=\"efg_pct\" >.326</td><td class=\"right \" data-stat=\"ft_per_g\" >1.3</td><td class=\"right \" data-stat=\"fta_per_g\" >1.8</td><td class=\"right \" data-stat=\"ft_pct\" >.750</td><td class=\"right \" data-stat=\"orb_per_g\" >1.1</td><td class=\"right \" data-stat=\"drb_per_g\" >2.3</td><td class=\"right \" data-stat=\"trb_per_g\" >3.4</td><td class=\"right \" data-stat=\"ast_per_g\" >1.1</td><td class=\"right \" data-stat=\"stl_per_g\" >0.1</td><td class=\"right \" data-stat=\"blk_per_g\" >0.2</td><td class=\"right \" data-stat=\"tov_per_g\" >0.7</td><td class=\"right \" data-stat=\"pf_per_g\" >2.2</td><td class=\"right \" data-stat=\"pts_per_g\" >4.4</td></tr>\n",
      "<tr ><th scope=\"row\" class=\"center \" data-stat=\"ranker\" csk=\"10\" >10</th><td class=\"left \" data-append-csv=\"davisem01\" data-stat=\"player\" csk=\"Davis,Emanual\" ><a href=\"/players/d/davisem01.html\">Emanual Davis</a></td><td class=\"center \" data-stat=\"age\" >34</td><td class=\"right \" data-stat=\"g\" ><a href=\"/players/d/davisem01/gamelog/2003/\">24</a></td><td class=\"right \" data-stat=\"gs\" >1</td><td class=\"right \" data-stat=\"mp_per_g\" >14.2</td><td class=\"right \" data-stat=\"fg_per_g\" >1.3</td><td class=\"right \" data-stat=\"fga_per_g\" >3.7</td><td class=\"right \" data-stat=\"fg_pct\" >.364</td><td class=\"right \" data-stat=\"fg3_per_g\" >0.3</td><td class=\"right \" data-stat=\"fg3a_per_g\" >1.2</td><td class=\"right \" data-stat=\"fg3_pct\" >.241</td><td class=\"right \" data-stat=\"fg2_per_g\" >1.0</td><td class=\"right \" data-stat=\"fg2a_per_g\" >2.5</td><td class=\"right \" data-stat=\"fg2_pct\" >.424</td><td class=\"right \" data-stat=\"efg_pct\" >.403</td><td class=\"right \" data-stat=\"ft_per_g\" >0.7</td><td class=\"right \" data-stat=\"fta_per_g\" >0.9</td><td class=\"right \" data-stat=\"ft_pct\" >.773</td><td class=\"right \" data-stat=\"orb_per_g\" >0.2</td><td class=\"right \" data-stat=\"drb_per_g\" >1.6</td><td class=\"right \" data-stat=\"trb_per_g\" >1.8</td><td class=\"right \" data-stat=\"ast_per_g\" >1.5</td><td class=\"right \" data-stat=\"stl_per_g\" >0.5</td><td class=\"right \" data-stat=\"blk_per_g\" >0.1</td><td class=\"right \" data-stat=\"tov_per_g\" >1.0</td><td class=\"right \" data-stat=\"pf_per_g\" >1.2</td><td class=\"right \" data-stat=\"pts_per_g\" >3.7</td></tr>\n",
      "<tr ><th scope=\"row\" class=\"center \" data-stat=\"ranker\" csk=\"11\" >11</th><td class=\"left \" data-append-csv=\"mohamna01\" data-stat=\"player\" csk=\"Mohammed,Nazr\" ><a href=\"/players/m/mohamna01.html\">Nazr Mohammed</a></td><td class=\"center \" data-stat=\"age\" >25</td><td class=\"right \" data-stat=\"g\" ><a href=\"/players/m/mohamna01/gamelog/2003/\">35</a></td><td class=\"right iz\" data-stat=\"gs\" >0</td><td class=\"right \" data-stat=\"mp_per_g\" >12.7</td><td class=\"right \" data-stat=\"fg_per_g\" >1.9</td><td class=\"right \" data-stat=\"fga_per_g\" >4.5</td><td class=\"right \" data-stat=\"fg_pct\" >.421</td><td class=\"right \" data-stat=\"fg3_per_g\" >0.0</td><td class=\"right \" data-stat=\"fg3a_per_g\" >0.0</td><td class=\"right iz\" data-stat=\"fg3_pct\" ></td><td class=\"right \" data-stat=\"fg2_per_g\" >1.9</td><td class=\"right \" data-stat=\"fg2a_per_g\" >4.5</td><td class=\"right \" data-stat=\"fg2_pct\" >.421</td><td class=\"right \" data-stat=\"efg_pct\" >.421</td><td class=\"right \" data-stat=\"ft_per_g\" >0.7</td><td class=\"right \" data-stat=\"fta_per_g\" >1.2</td><td class=\"right \" data-stat=\"ft_pct\" >.634</td><td class=\"right \" data-stat=\"orb_per_g\" >1.3</td><td class=\"right \" data-stat=\"drb_per_g\" >2.3</td><td class=\"right \" data-stat=\"trb_per_g\" >3.7</td><td class=\"right \" data-stat=\"ast_per_g\" >0.2</td><td class=\"right \" data-stat=\"stl_per_g\" >0.5</td><td class=\"right \" data-stat=\"blk_per_g\" >0.6</td><td class=\"right \" data-stat=\"tov_per_g\" >0.7</td><td class=\"right \" data-stat=\"pf_per_g\" >2.3</td><td class=\"right \" data-stat=\"pts_per_g\" >4.6</td></tr>\n",
      "<tr ><th scope=\"row\" class=\"center \" data-stat=\"ranker\" csk=\"12\" >12</th><td class=\"left \" data-append-csv=\"hamda01\" data-stat=\"player\" csk=\"Ham,Darvin\" ><a href=\"/players/h/hamda01.html\">Darvin Ham</a></td><td class=\"center \" data-stat=\"age\" >29</td><td class=\"right \" data-stat=\"g\" ><a href=\"/players/h/hamda01/gamelog/2003/\">75</a></td><td class=\"right \" data-stat=\"gs\" >1</td><td class=\"right \" data-stat=\"mp_per_g\" >12.3</td><td class=\"right \" data-stat=\"fg_per_g\" >0.9</td><td class=\"right \" data-stat=\"fga_per_g\" >2.1</td><td class=\"right \" data-stat=\"fg_pct\" >.447</td><td class=\"right \" data-stat=\"fg3_per_g\" >0.0</td><td class=\"right \" data-stat=\"fg3a_per_g\" >0.0</td><td class=\"right \" data-stat=\"fg3_pct\" >.000</td><td class=\"right \" data-stat=\"fg2_per_g\" >0.9</td><td class=\"right \" data-stat=\"fg2a_per_g\" >2.1</td><td class=\"right \" data-stat=\"fg2_pct\" >.455</td><td class=\"right \" data-stat=\"efg_pct\" >.447</td><td class=\"right \" data-stat=\"ft_per_g\" >0.5</td><td class=\"right \" data-stat=\"fta_per_g\" >1.1</td><td class=\"right \" data-stat=\"ft_pct\" >.481</td><td class=\"right \" data-stat=\"orb_per_g\" >1.0</td><td class=\"right \" data-stat=\"drb_per_g\" >1.1</td><td class=\"right \" data-stat=\"trb_per_g\" >2.0</td><td class=\"right \" data-stat=\"ast_per_g\" >0.5</td><td class=\"right \" data-stat=\"stl_per_g\" >0.2</td><td class=\"right \" data-stat=\"blk_per_g\" >0.3</td><td class=\"right \" data-stat=\"tov_per_g\" >0.9</td><td class=\"right \" data-stat=\"pf_per_g\" >1.7</td><td class=\"right \" data-stat=\"pts_per_g\" >2.4</td></tr>\n",
      "<tr ><th scope=\"row\" class=\"center \" data-stat=\"ranker\" csk=\"13\" >13</th><td class=\"left \" data-append-csv=\"dickada01\" data-stat=\"player\" csk=\"Dickau,Dan\" ><a href=\"/players/d/dickada01.html\">Dan Dickau</a></td><td class=\"center \" data-stat=\"age\" >24</td><td class=\"right \" data-stat=\"g\" ><a href=\"/players/d/dickada01/gamelog/2003/\">50</a></td><td class=\"right iz\" data-stat=\"gs\" >0</td><td class=\"right \" data-stat=\"mp_per_g\" >10.3</td><td class=\"right \" data-stat=\"fg_per_g\" >1.4</td><td class=\"right \" data-stat=\"fga_per_g\" >3.4</td><td class=\"right \" data-stat=\"fg_pct\" >.412</td><td class=\"right \" data-stat=\"fg3_per_g\" >0.4</td><td class=\"right \" data-stat=\"fg3a_per_g\" >1.2</td><td class=\"right \" data-stat=\"fg3_pct\" >.361</td><td class=\"right \" data-stat=\"fg2_per_g\" >1.0</td><td class=\"right \" data-stat=\"fg2a_per_g\" >2.2</td><td class=\"right \" data-stat=\"fg2_pct\" >.440</td><td class=\"right \" data-stat=\"efg_pct\" >.476</td><td class=\"right \" data-stat=\"ft_per_g\" >0.4</td><td class=\"right \" data-stat=\"fta_per_g\" >0.5</td><td class=\"right \" data-stat=\"ft_pct\" >.808</td><td class=\"right \" data-stat=\"orb_per_g\" >0.2</td><td class=\"right \" data-stat=\"drb_per_g\" >0.7</td><td class=\"right \" data-stat=\"trb_per_g\" >0.9</td><td class=\"right \" data-stat=\"ast_per_g\" >1.7</td><td class=\"right \" data-stat=\"stl_per_g\" >0.3</td><td class=\"right \" data-stat=\"blk_per_g\" >0.0</td><td class=\"right \" data-stat=\"tov_per_g\" >1.1</td><td class=\"right \" data-stat=\"pf_per_g\" >1.3</td><td class=\"right \" data-stat=\"pts_per_g\" >3.7</td></tr>\n",
      "<tr ><th scope=\"row\" class=\"center \" data-stat=\"ranker\" csk=\"14\" >14</th><td class=\"left \" data-append-csv=\"jacksje01\" data-stat=\"player\" csk=\"Jackson,Jermaine\" ><a href=\"/players/j/jacksje01.html\">Jermaine Jackson</a></td><td class=\"center \" data-stat=\"age\" >26</td><td class=\"right \" data-stat=\"g\" ><a href=\"/players/j/jacksje01/gamelog/2003/\">29</a></td><td class=\"right iz\" data-stat=\"gs\" >0</td><td class=\"right \" data-stat=\"mp_per_g\" >9.4</td><td class=\"right \" data-stat=\"fg_per_g\" >0.7</td><td class=\"right \" data-stat=\"fga_per_g\" >1.4</td><td class=\"right \" data-stat=\"fg_pct\" >.452</td><td class=\"right \" data-stat=\"fg3_per_g\" >0.0</td><td class=\"right \" data-stat=\"fg3a_per_g\" >0.0</td><td class=\"right \" data-stat=\"fg3_pct\" >.000</td><td class=\"right \" data-stat=\"fg2_per_g\" >0.7</td><td class=\"right \" data-stat=\"fg2a_per_g\" >1.4</td><td class=\"right \" data-stat=\"fg2_pct\" >.463</td><td class=\"right \" data-stat=\"efg_pct\" >.452</td><td class=\"right \" data-stat=\"ft_per_g\" >0.6</td><td class=\"right \" data-stat=\"fta_per_g\" >1.0</td><td class=\"right \" data-stat=\"ft_pct\" >.607</td><td class=\"right \" data-stat=\"orb_per_g\" >0.3</td><td class=\"right \" data-stat=\"drb_per_g\" >0.8</td><td class=\"right \" data-stat=\"trb_per_g\" >1.1</td><td class=\"right \" data-stat=\"ast_per_g\" >1.2</td><td class=\"right \" data-stat=\"stl_per_g\" >0.3</td><td class=\"right \" data-stat=\"blk_per_g\" >0.1</td><td class=\"right \" data-stat=\"tov_per_g\" >0.5</td><td class=\"right \" data-stat=\"pf_per_g\" >0.9</td><td class=\"right \" data-stat=\"pts_per_g\" >1.9</td></tr>\n",
      "<tr ><th scope=\"row\" class=\"center \" data-stat=\"ranker\" csk=\"15\" >15</th><td class=\"left \" data-append-csv=\"harvean01\" data-stat=\"player\" csk=\"Harvey,Antonio\" ><a href=\"/players/h/harvean01.html\">Antonio Harvey</a></td><td class=\"center \" data-stat=\"age\" >32</td><td class=\"right \" data-stat=\"g\" ><a href=\"/players/h/harvean01/gamelog/2003/\">4</a></td><td class=\"right iz\" data-stat=\"gs\" >0</td><td class=\"right \" data-stat=\"mp_per_g\" >8.0</td><td class=\"right \" data-stat=\"fg_per_g\" >0.5</td><td class=\"right \" data-stat=\"fga_per_g\" >1.3</td><td class=\"right \" data-stat=\"fg_pct\" >.400</td><td class=\"right \" data-stat=\"fg3_per_g\" >0.0</td><td class=\"right \" data-stat=\"fg3a_per_g\" >0.0</td><td class=\"right iz\" data-stat=\"fg3_pct\" ></td><td class=\"right \" data-stat=\"fg2_per_g\" >0.5</td><td class=\"right \" data-stat=\"fg2a_per_g\" >1.3</td><td class=\"right \" data-stat=\"fg2_pct\" >.400</td><td class=\"right \" data-stat=\"efg_pct\" >.400</td><td class=\"right \" data-stat=\"ft_per_g\" >0.0</td><td class=\"right \" data-stat=\"fta_per_g\" >0.0</td><td class=\"right iz\" data-stat=\"ft_pct\" ></td><td class=\"right \" data-stat=\"orb_per_g\" >0.3</td><td class=\"right \" data-stat=\"drb_per_g\" >1.3</td><td class=\"right \" data-stat=\"trb_per_g\" >1.5</td><td class=\"right \" data-stat=\"ast_per_g\" >0.0</td><td class=\"right \" data-stat=\"stl_per_g\" >0.3</td><td class=\"right \" data-stat=\"blk_per_g\" >1.0</td><td class=\"right \" data-stat=\"tov_per_g\" >0.8</td><td class=\"right \" data-stat=\"pf_per_g\" >1.8</td><td class=\"right \" data-stat=\"pts_per_g\" >1.0</td></tr>\n",
      "<tr ><th scope=\"row\" class=\"center \" data-stat=\"ranker\" csk=\"16\" >16</th><td class=\"left \" data-append-csv=\"crawfch01\" data-stat=\"player\" csk=\"Crawford,Chris\" ><a href=\"/players/c/crawfch01.html\">Chris Crawford</a></td><td class=\"center \" data-stat=\"age\" >27</td><td class=\"right \" data-stat=\"g\" ><a href=\"/players/c/crawfch01/gamelog/2003/\">5</a></td><td class=\"right iz\" data-stat=\"gs\" >0</td><td class=\"right \" data-stat=\"mp_per_g\" >7.6</td><td class=\"right \" data-stat=\"fg_per_g\" >1.6</td><td class=\"right \" data-stat=\"fga_per_g\" >2.6</td><td class=\"right \" data-stat=\"fg_pct\" >.615</td><td class=\"right \" data-stat=\"fg3_per_g\" >0.2</td><td class=\"right \" data-stat=\"fg3a_per_g\" >0.6</td><td class=\"right \" data-stat=\"fg3_pct\" >.333</td><td class=\"right \" data-stat=\"fg2_per_g\" >1.4</td><td class=\"right \" data-stat=\"fg2a_per_g\" >2.0</td><td class=\"right \" data-stat=\"fg2_pct\" >.700</td><td class=\"right \" data-stat=\"efg_pct\" >.654</td><td class=\"right \" data-stat=\"ft_per_g\" >1.4</td><td class=\"right \" data-stat=\"fta_per_g\" >1.6</td><td class=\"right \" data-stat=\"ft_pct\" >.875</td><td class=\"right \" data-stat=\"orb_per_g\" >0.6</td><td class=\"right \" data-stat=\"drb_per_g\" >0.8</td><td class=\"right \" data-stat=\"trb_per_g\" >1.4</td><td class=\"right \" data-stat=\"ast_per_g\" >0.2</td><td class=\"right \" data-stat=\"stl_per_g\" >0.4</td><td class=\"right \" data-stat=\"blk_per_g\" >0.6</td><td class=\"right \" data-stat=\"tov_per_g\" >0.4</td><td class=\"right \" data-stat=\"pf_per_g\" >1.4</td><td class=\"right \" data-stat=\"pts_per_g\" >4.8</td></tr>\n",
      "<tr ><th scope=\"row\" class=\"center \" data-stat=\"ranker\" csk=\"17\" >17</th><td class=\"left \" data-append-csv=\"malonma01\" data-stat=\"player\" csk=\"Maloney,Matt\" ><a href=\"/players/m/malonma01.html\">Matt Maloney</a></td><td class=\"center \" data-stat=\"age\" >31</td><td class=\"right \" data-stat=\"g\" ><a href=\"/players/m/malonma01/gamelog/2003/\">14</a></td><td class=\"right iz\" data-stat=\"gs\" >0</td><td class=\"right \" data-stat=\"mp_per_g\" >7.4</td><td class=\"right \" data-stat=\"fg_per_g\" >0.6</td><td class=\"right \" data-stat=\"fga_per_g\" >1.8</td><td class=\"right \" data-stat=\"fg_pct\" >.320</td><td class=\"right \" data-stat=\"fg3_per_g\" >0.4</td><td class=\"right \" data-stat=\"fg3a_per_g\" >1.1</td><td class=\"right \" data-stat=\"fg3_pct\" >.333</td><td class=\"right \" data-stat=\"fg2_per_g\" >0.2</td><td class=\"right \" data-stat=\"fg2a_per_g\" >0.7</td><td class=\"right \" data-stat=\"fg2_pct\" >.300</td><td class=\"right \" data-stat=\"efg_pct\" >.420</td><td class=\"right \" data-stat=\"ft_per_g\" >0.2</td><td class=\"right \" data-stat=\"fta_per_g\" >0.4</td><td class=\"right \" data-stat=\"ft_pct\" >.600</td><td class=\"right \" data-stat=\"orb_per_g\" >0.1</td><td class=\"right \" data-stat=\"drb_per_g\" >0.4</td><td class=\"right \" data-stat=\"trb_per_g\" >0.5</td><td class=\"right \" data-stat=\"ast_per_g\" >1.2</td><td class=\"right \" data-stat=\"stl_per_g\" >0.3</td><td class=\"right \" data-stat=\"blk_per_g\" >0.0</td><td class=\"right \" data-stat=\"tov_per_g\" >0.4</td><td class=\"right \" data-stat=\"pf_per_g\" >0.6</td><td class=\"right \" data-stat=\"pts_per_g\" >1.7</td></tr>\n",
      "<tr ><th scope=\"row\" class=\"center \" data-stat=\"ranker\" csk=\"18\" >18</th><td class=\"left \" data-append-csv=\"mccasam01\" data-stat=\"player\" csk=\"McCaskill,Amal\" ><a href=\"/players/m/mccasam01.html\">Amal McCaskill</a></td><td class=\"center \" data-stat=\"age\" >29</td><td class=\"right \" data-stat=\"g\" ><a href=\"/players/m/mccasam01/gamelog/2003/\">11</a></td><td class=\"right iz\" data-stat=\"gs\" >0</td><td class=\"right \" data-stat=\"mp_per_g\" >6.4</td><td class=\"right \" data-stat=\"fg_per_g\" >0.4</td><td class=\"right \" data-stat=\"fga_per_g\" >1.5</td><td class=\"right \" data-stat=\"fg_pct\" >.235</td><td class=\"right \" data-stat=\"fg3_per_g\" >0.0</td><td class=\"right \" data-stat=\"fg3a_per_g\" >0.0</td><td class=\"right iz\" data-stat=\"fg3_pct\" ></td><td class=\"right \" data-stat=\"fg2_per_g\" >0.4</td><td class=\"right \" data-stat=\"fg2a_per_g\" >1.5</td><td class=\"right \" data-stat=\"fg2_pct\" >.235</td><td class=\"right \" data-stat=\"efg_pct\" >.235</td><td class=\"right \" data-stat=\"ft_per_g\" >0.3</td><td class=\"right \" data-stat=\"fta_per_g\" >0.4</td><td class=\"right \" data-stat=\"ft_pct\" >.750</td><td class=\"right \" data-stat=\"orb_per_g\" >0.6</td><td class=\"right \" data-stat=\"drb_per_g\" >1.4</td><td class=\"right \" data-stat=\"trb_per_g\" >2.0</td><td class=\"right \" data-stat=\"ast_per_g\" >0.5</td><td class=\"right \" data-stat=\"stl_per_g\" >0.3</td><td class=\"right \" data-stat=\"blk_per_g\" >0.1</td><td class=\"right \" data-stat=\"tov_per_g\" >0.2</td><td class=\"right \" data-stat=\"pf_per_g\" >1.2</td><td class=\"right \" data-stat=\"pts_per_g\" >1.0</td></tr>\n",
      "<tr ><th scope=\"row\" class=\"center \" data-stat=\"ranker\" csk=\"19\" >19</th><td class=\"left \" data-append-csv=\"mooremi01\" data-stat=\"player\" csk=\"Moore,Mikki\" ><a href=\"/players/m/mooremi01.html\">Mikki Moore</a></td><td class=\"center \" data-stat=\"age\" >27</td><td class=\"right \" data-stat=\"g\" ><a href=\"/players/m/mooremi01/gamelog/2003/\">5</a></td><td class=\"right iz\" data-stat=\"gs\" >0</td><td class=\"right \" data-stat=\"mp_per_g\" >6.2</td><td class=\"right \" data-stat=\"fg_per_g\" >1.0</td><td class=\"right \" data-stat=\"fga_per_g\" >2.4</td><td class=\"right \" data-stat=\"fg_pct\" >.417</td><td class=\"right \" data-stat=\"fg3_per_g\" >0.0</td><td class=\"right \" data-stat=\"fg3a_per_g\" >0.0</td><td class=\"right iz\" data-stat=\"fg3_pct\" ></td><td class=\"right \" data-stat=\"fg2_per_g\" >1.0</td><td class=\"right \" data-stat=\"fg2a_per_g\" >2.4</td><td class=\"right \" data-stat=\"fg2_pct\" >.417</td><td class=\"right \" data-stat=\"efg_pct\" >.417</td><td class=\"right \" data-stat=\"ft_per_g\" >1.6</td><td class=\"right \" data-stat=\"fta_per_g\" >2.0</td><td class=\"right \" data-stat=\"ft_pct\" >.800</td><td class=\"right \" data-stat=\"orb_per_g\" >1.0</td><td class=\"right \" data-stat=\"drb_per_g\" >0.4</td><td class=\"right \" data-stat=\"trb_per_g\" >1.4</td><td class=\"right \" data-stat=\"ast_per_g\" >0.6</td><td class=\"right \" data-stat=\"stl_per_g\" >0.0</td><td class=\"right \" data-stat=\"blk_per_g\" >0.4</td><td class=\"right \" data-stat=\"tov_per_g\" >0.4</td><td class=\"right \" data-stat=\"pf_per_g\" >0.2</td><td class=\"right \" data-stat=\"pts_per_g\" >3.6</td></tr>\n",
      "<tr ><th scope=\"row\" class=\"center \" data-stat=\"ranker\" csk=\"20\" >20</th><td class=\"left \" data-append-csv=\"willibr01\" data-stat=\"player\" csk=\"Williams,Brandon\" ><a href=\"/players/w/willibr01.html\">Brandon Williams</a></td><td class=\"center \" data-stat=\"age\" >27</td><td class=\"right \" data-stat=\"g\" ><a href=\"/players/w/willibr01/gamelog/2003/\">6</a></td><td class=\"right iz\" data-stat=\"gs\" >0</td><td class=\"right \" data-stat=\"mp_per_g\" >3.2</td><td class=\"right \" data-stat=\"fg_per_g\" >0.2</td><td class=\"right \" data-stat=\"fga_per_g\" >1.2</td><td class=\"right \" data-stat=\"fg_pct\" >.143</td><td class=\"right \" data-stat=\"fg3_per_g\" >0.0</td><td class=\"right \" data-stat=\"fg3a_per_g\" >0.2</td><td class=\"right \" data-stat=\"fg3_pct\" >.000</td><td class=\"right \" data-stat=\"fg2_per_g\" >0.2</td><td class=\"right \" data-stat=\"fg2a_per_g\" >1.0</td><td class=\"right \" data-stat=\"fg2_pct\" >.167</td><td class=\"right \" data-stat=\"efg_pct\" >.143</td><td class=\"right \" data-stat=\"ft_per_g\" >0.0</td><td class=\"right \" data-stat=\"fta_per_g\" >0.0</td><td class=\"right iz\" data-stat=\"ft_pct\" ></td><td class=\"right \" data-stat=\"orb_per_g\" >0.3</td><td class=\"right \" data-stat=\"drb_per_g\" >0.0</td><td class=\"right \" data-stat=\"trb_per_g\" >0.3</td><td class=\"right \" data-stat=\"ast_per_g\" >0.0</td><td class=\"right \" data-stat=\"stl_per_g\" >0.3</td><td class=\"right \" data-stat=\"blk_per_g\" >0.0</td><td class=\"right \" data-stat=\"tov_per_g\" >0.5</td><td class=\"right \" data-stat=\"pf_per_g\" >0.7</td><td class=\"right \" data-stat=\"pts_per_g\" >0.3</td></tr>\n",
      "<tr ><th scope=\"row\" class=\"center \" data-stat=\"ranker\" csk=\"21\" >21</th><td class=\"left \" data-append-csv=\"shirlpa01\" data-stat=\"player\" csk=\"Shirley,Paul\" ><a href=\"/players/s/shirlpa01.html\">Paul Shirley</a></td><td class=\"center \" data-stat=\"age\" >25</td><td class=\"right \" data-stat=\"g\" ><a href=\"/players/s/shirlpa01/gamelog/2003/\">2</a></td><td class=\"right iz\" data-stat=\"gs\" >0</td><td class=\"right \" data-stat=\"mp_per_g\" >2.5</td><td class=\"right \" data-stat=\"fg_per_g\" >0.0</td><td class=\"right \" data-stat=\"fga_per_g\" >2.0</td><td class=\"right \" data-stat=\"fg_pct\" >.000</td><td class=\"right \" data-stat=\"fg3_per_g\" >0.0</td><td class=\"right \" data-stat=\"fg3a_per_g\" >0.0</td><td class=\"right iz\" data-stat=\"fg3_pct\" ></td><td class=\"right \" data-stat=\"fg2_per_g\" >0.0</td><td class=\"right \" data-stat=\"fg2a_per_g\" >2.0</td><td class=\"right \" data-stat=\"fg2_pct\" >.000</td><td class=\"right \" data-stat=\"efg_pct\" >.000</td><td class=\"right \" data-stat=\"ft_per_g\" >0.0</td><td class=\"right \" data-stat=\"fta_per_g\" >0.0</td><td class=\"right iz\" data-stat=\"ft_pct\" ></td><td class=\"right \" data-stat=\"orb_per_g\" >0.0</td><td class=\"right \" data-stat=\"drb_per_g\" >0.5</td><td class=\"right \" data-stat=\"trb_per_g\" >0.5</td><td class=\"right \" data-stat=\"ast_per_g\" >0.0</td><td class=\"right \" data-stat=\"stl_per_g\" >0.0</td><td class=\"right \" data-stat=\"blk_per_g\" >0.0</td><td class=\"right \" data-stat=\"tov_per_g\" >0.0</td><td class=\"right \" data-stat=\"pf_per_g\" >0.0</td><td class=\"right \" data-stat=\"pts_per_g\" >0.0</td></tr>\n",
      "\n",
      "</tbody></table>\n",
      "\n",
      "      </div>\n",
      "   </div>\n",
      "-->\n",
      "</div>\n"
     ]
    }
   ],
   "source": [
    "#Extracting per game stats table from team page\n",
    "#WIP\n",
    "\n",
    "from bs4 import BeautifulSoup\n",
    "import requests\n",
    "import pandas as pd\n",
    "from functools import partial\n",
    "\n",
    "# lbj_2004 = 'https://www.basketball-reference.com/players/j/jamesle01/gamelog/2004/'\n",
    "\n",
    "def team_table_into_df(link:str, columns:int, rows:int, class_:str, kind:str): #kind: 'player' or 'team'\n",
    "    '''\n",
    "    helper--------------\n",
    "    class for player stats = \"row_summable\"\n",
    "    class for team stats = \"sortable\"\n",
    "    '''\n",
    "    pass\n",
    "\n",
    "atl_03 = 'https://www.basketball-reference.com/teams/ATL/2003.html#all_per_game'\n",
    "\n",
    "source = requests.get(atl_03).text\n",
    "soup = BeautifulSoup(source, 'html.parser')\n",
    "step1 = soup.find('div', id=\"all_per_game\")\n",
    "step2 = step1.find('table', class_=\"sortable stats_table\")\n",
    "print(step1)"
   ]
  },
  {
   "cell_type": "markdown",
   "metadata": {},
   "source": [
    "## All players stats per season, specify year (eg. 2003-2004 season is year=2004)"
   ]
  },
  {
   "cell_type": "code",
   "execution_count": 53,
   "metadata": {},
   "outputs": [],
   "source": [
    "#all players stats per season\n",
    "#https://www.basketball-reference.com/leagues/NBA_2020_per_game.html\n",
    "\n",
    "def all_player_avg_season(year:int):\n",
    "    \n",
    "    page = requests.get(f\"https://www.basketball-reference.com/leagues/NBA_{year}_per_game.html\")\n",
    "    soup1 = BeautifulSoup(page.content, 'html.parser')\n",
    "    tables = soup1.find_all(\"table\")\n",
    "\n",
    "    table = tables[0]\n",
    "    tab_data = [[cell.text for cell in row.find_all([\"th\",\"td\"])]\n",
    "                            for row in table.find_all(\"tr\")]\n",
    "    df = pd.DataFrame(tab_data)\n",
    "    \n",
    "#     player_column_names = ['g', 'date', 'age', 'tm', '',\n",
    "#                         'opp', 'outcome', 'gs', 'mp', 'fg', 'fga', 'fg%',\n",
    "#                         '3p', '3pa', '3p%', 'ft', 'fta', 'ft%', 'orb', 'drb',\n",
    "#                         'trb', 'ast', 'stl', 'blk', 'tov', 'pf', 'pts', 'gmsc', '+/-']\n",
    "    \n",
    "#     for i in range(1,30):\n",
    "#             df.rename(columns={i: player_column_names[i-1]}, inplace=True)\n",
    "    \n",
    "    new_header = df.iloc[0]\n",
    "    df = df[1:]\n",
    "    df.columns = new_header\n",
    "    \n",
    "    final_df = df.apply(partial(pd.to_numeric, errors=''))\n",
    "    \n",
    "    return final_df\n",
    "\n",
    "#write to CSV?\n",
    "# for i in range(2003,2019):\n",
    "#     print(player_per_game(i))"
   ]
  },
  {
   "cell_type": "code",
   "execution_count": 65,
   "metadata": {},
   "outputs": [
    {
     "data": {
      "text/plain": [
       "1      0.3\n",
       "2      0.6\n",
       "3      5.1\n",
       "4      1.7\n",
       "5      0.1\n",
       "      ... \n",
       "686    1.5\n",
       "687    2.0\n",
       "688    0.2\n",
       "689    0.8\n",
       "690    1.0\n",
       "Name: ORB, Length: 690, dtype: float64"
      ]
     },
     "execution_count": 65,
     "metadata": {},
     "output_type": "execute_result"
    }
   ],
   "source": [
    "all_p_2018 = all_player_avg_season(2018)\n",
    "\n",
    "# all_p_2018['ORB'].to_numeric(errors='ignore').mean()\n",
    "\n",
    "pd.to_numeric(all_p_2018['ORB'], errors='coerce') #specify columns\n"
   ]
  },
  {
   "cell_type": "markdown",
   "metadata": {},
   "source": [
    "# What needs to be done\n",
    "\n",
    "Challenges/Questions:\n",
    "- `pd.to_numeric` not working\n",
    "- can’t find team stats - javascript? table within table? (3rd table within tables)\n",
    "- selenium chromedriver executable path?\n",
    "- From Tomas/Hamid: store html from requests.get to MongoDB and THEN create a dataframe?\n",
    "- what about translate everything to PD DF and then to_csv? And then consolidate csv’s?"
   ]
  },
  {
   "cell_type": "markdown",
   "metadata": {},
   "source": [
    "#### Testing selenium and chromedriver..."
   ]
  },
  {
   "cell_type": "code",
   "execution_count": 75,
   "metadata": {
    "scrolled": true
   },
   "outputs": [
    {
     "ename": "WebDriverException",
     "evalue": "Message: 'chromedriver' executable needs to be in PATH. Please see https://sites.google.com/a/chromium.org/chromedriver/home\n",
     "output_type": "error",
     "traceback": [
      "\u001b[0;31m---------------------------------------------------------------------------\u001b[0m",
      "\u001b[0;31mFileNotFoundError\u001b[0m                         Traceback (most recent call last)",
      "\u001b[0;32m~/opt/anaconda3/lib/python3.7/site-packages/selenium/webdriver/common/service.py\u001b[0m in \u001b[0;36mstart\u001b[0;34m(self)\u001b[0m\n\u001b[1;32m     75\u001b[0m                                             \u001b[0mstderr\u001b[0m\u001b[0;34m=\u001b[0m\u001b[0mself\u001b[0m\u001b[0;34m.\u001b[0m\u001b[0mlog_file\u001b[0m\u001b[0;34m,\u001b[0m\u001b[0;34m\u001b[0m\u001b[0;34m\u001b[0m\u001b[0m\n\u001b[0;32m---> 76\u001b[0;31m                                             stdin=PIPE)\n\u001b[0m\u001b[1;32m     77\u001b[0m         \u001b[0;32mexcept\u001b[0m \u001b[0mTypeError\u001b[0m\u001b[0;34m:\u001b[0m\u001b[0;34m\u001b[0m\u001b[0;34m\u001b[0m\u001b[0m\n",
      "\u001b[0;32m~/opt/anaconda3/lib/python3.7/subprocess.py\u001b[0m in \u001b[0;36m__init__\u001b[0;34m(self, args, bufsize, executable, stdin, stdout, stderr, preexec_fn, close_fds, shell, cwd, env, universal_newlines, startupinfo, creationflags, restore_signals, start_new_session, pass_fds, encoding, errors, text)\u001b[0m\n\u001b[1;32m    774\u001b[0m                                 \u001b[0merrread\u001b[0m\u001b[0;34m,\u001b[0m \u001b[0merrwrite\u001b[0m\u001b[0;34m,\u001b[0m\u001b[0;34m\u001b[0m\u001b[0;34m\u001b[0m\u001b[0m\n\u001b[0;32m--> 775\u001b[0;31m                                 restore_signals, start_new_session)\n\u001b[0m\u001b[1;32m    776\u001b[0m         \u001b[0;32mexcept\u001b[0m\u001b[0;34m:\u001b[0m\u001b[0;34m\u001b[0m\u001b[0;34m\u001b[0m\u001b[0m\n",
      "\u001b[0;32m~/opt/anaconda3/lib/python3.7/subprocess.py\u001b[0m in \u001b[0;36m_execute_child\u001b[0;34m(self, args, executable, preexec_fn, close_fds, pass_fds, cwd, env, startupinfo, creationflags, shell, p2cread, p2cwrite, c2pread, c2pwrite, errread, errwrite, restore_signals, start_new_session)\u001b[0m\n\u001b[1;32m   1521\u001b[0m                             \u001b[0merr_msg\u001b[0m \u001b[0;34m+=\u001b[0m \u001b[0;34m': '\u001b[0m \u001b[0;34m+\u001b[0m \u001b[0mrepr\u001b[0m\u001b[0;34m(\u001b[0m\u001b[0merr_filename\u001b[0m\u001b[0;34m)\u001b[0m\u001b[0;34m\u001b[0m\u001b[0;34m\u001b[0m\u001b[0m\n\u001b[0;32m-> 1522\u001b[0;31m                     \u001b[0;32mraise\u001b[0m \u001b[0mchild_exception_type\u001b[0m\u001b[0;34m(\u001b[0m\u001b[0merrno_num\u001b[0m\u001b[0;34m,\u001b[0m \u001b[0merr_msg\u001b[0m\u001b[0;34m,\u001b[0m \u001b[0merr_filename\u001b[0m\u001b[0;34m)\u001b[0m\u001b[0;34m\u001b[0m\u001b[0;34m\u001b[0m\u001b[0m\n\u001b[0m\u001b[1;32m   1523\u001b[0m                 \u001b[0;32mraise\u001b[0m \u001b[0mchild_exception_type\u001b[0m\u001b[0;34m(\u001b[0m\u001b[0merr_msg\u001b[0m\u001b[0;34m)\u001b[0m\u001b[0;34m\u001b[0m\u001b[0;34m\u001b[0m\u001b[0m\n",
      "\u001b[0;31mFileNotFoundError\u001b[0m: [Errno 2] No such file or directory: 'chromedriver': 'chromedriver'",
      "\nDuring handling of the above exception, another exception occurred:\n",
      "\u001b[0;31mWebDriverException\u001b[0m                        Traceback (most recent call last)",
      "\u001b[0;32m<ipython-input-75-f4baf0be9da1>\u001b[0m in \u001b[0;36m<module>\u001b[0;34m\u001b[0m\n\u001b[1;32m      4\u001b[0m \u001b[0;34m\u001b[0m\u001b[0m\n\u001b[1;32m      5\u001b[0m \u001b[0mURL\u001b[0m \u001b[0;34m=\u001b[0m \u001b[0;34m'https://www.basketball-reference.com/teams/ATL/2003.html'\u001b[0m\u001b[0;34m\u001b[0m\u001b[0;34m\u001b[0m\u001b[0m\n\u001b[0;32m----> 6\u001b[0;31m \u001b[0mdriver\u001b[0m \u001b[0;34m=\u001b[0m \u001b[0mwebdriver\u001b[0m\u001b[0;34m.\u001b[0m\u001b[0mChrome\u001b[0m\u001b[0;34m(\u001b[0m\u001b[0;34m)\u001b[0m\u001b[0;34m\u001b[0m\u001b[0;34m\u001b[0m\u001b[0m\n\u001b[0m\u001b[1;32m      7\u001b[0m \u001b[0mdriver\u001b[0m\u001b[0;34m.\u001b[0m\u001b[0mget\u001b[0m\u001b[0;34m(\u001b[0m\u001b[0mURL\u001b[0m\u001b[0;34m)\u001b[0m\u001b[0;34m\u001b[0m\u001b[0;34m\u001b[0m\u001b[0m\n\u001b[1;32m      8\u001b[0m \u001b[0msoup_test\u001b[0m \u001b[0;34m=\u001b[0m \u001b[0mBeautifulSoup\u001b[0m\u001b[0;34m(\u001b[0m\u001b[0mdriver\u001b[0m\u001b[0;34m.\u001b[0m\u001b[0mpage_source\u001b[0m\u001b[0;34m,\u001b[0m\u001b[0;34m'html'\u001b[0m\u001b[0;34m)\u001b[0m\u001b[0;34m\u001b[0m\u001b[0;34m\u001b[0m\u001b[0m\n",
      "\u001b[0;32m~/opt/anaconda3/lib/python3.7/site-packages/selenium/webdriver/chrome/webdriver.py\u001b[0m in \u001b[0;36m__init__\u001b[0;34m(self, executable_path, port, options, service_args, desired_capabilities, service_log_path, chrome_options, keep_alive)\u001b[0m\n\u001b[1;32m     71\u001b[0m             \u001b[0mservice_args\u001b[0m\u001b[0;34m=\u001b[0m\u001b[0mservice_args\u001b[0m\u001b[0;34m,\u001b[0m\u001b[0;34m\u001b[0m\u001b[0;34m\u001b[0m\u001b[0m\n\u001b[1;32m     72\u001b[0m             log_path=service_log_path)\n\u001b[0;32m---> 73\u001b[0;31m         \u001b[0mself\u001b[0m\u001b[0;34m.\u001b[0m\u001b[0mservice\u001b[0m\u001b[0;34m.\u001b[0m\u001b[0mstart\u001b[0m\u001b[0;34m(\u001b[0m\u001b[0;34m)\u001b[0m\u001b[0;34m\u001b[0m\u001b[0;34m\u001b[0m\u001b[0m\n\u001b[0m\u001b[1;32m     74\u001b[0m \u001b[0;34m\u001b[0m\u001b[0m\n\u001b[1;32m     75\u001b[0m         \u001b[0;32mtry\u001b[0m\u001b[0;34m:\u001b[0m\u001b[0;34m\u001b[0m\u001b[0;34m\u001b[0m\u001b[0m\n",
      "\u001b[0;32m~/opt/anaconda3/lib/python3.7/site-packages/selenium/webdriver/common/service.py\u001b[0m in \u001b[0;36mstart\u001b[0;34m(self)\u001b[0m\n\u001b[1;32m     81\u001b[0m                 raise WebDriverException(\n\u001b[1;32m     82\u001b[0m                     \"'%s' executable needs to be in PATH. %s\" % (\n\u001b[0;32m---> 83\u001b[0;31m                         os.path.basename(self.path), self.start_error_message)\n\u001b[0m\u001b[1;32m     84\u001b[0m                 )\n\u001b[1;32m     85\u001b[0m             \u001b[0;32melif\u001b[0m \u001b[0merr\u001b[0m\u001b[0;34m.\u001b[0m\u001b[0merrno\u001b[0m \u001b[0;34m==\u001b[0m \u001b[0merrno\u001b[0m\u001b[0;34m.\u001b[0m\u001b[0mEACCES\u001b[0m\u001b[0;34m:\u001b[0m\u001b[0;34m\u001b[0m\u001b[0;34m\u001b[0m\u001b[0m\n",
      "\u001b[0;31mWebDriverException\u001b[0m: Message: 'chromedriver' executable needs to be in PATH. Please see https://sites.google.com/a/chromium.org/chromedriver/home\n"
     ]
    }
   ],
   "source": [
    "#TEST chromedriver\n",
    "\n",
    "from selenium import webdriver\n",
    "\n",
    "URL = 'https://www.basketball-reference.com/teams/ATL/2003.html'\n",
    "driver = webdriver.Chrome()\n",
    "driver.get(URL)\n",
    "soup_test = BeautifulSoup(driver.page_source,'html')\n",
    "driver.quit()\n",
    "tables_test = soup.find_all('table')"
   ]
  },
  {
   "cell_type": "code",
   "execution_count": 76,
   "metadata": {},
   "outputs": [
    {
     "ename": "WebDriverException",
     "evalue": "Message: 'chromedriver' executable needs to be in PATH. Please see https://sites.google.com/a/chromium.org/chromedriver/home\n",
     "output_type": "error",
     "traceback": [
      "\u001b[0;31m---------------------------------------------------------------------------\u001b[0m",
      "\u001b[0;31mFileNotFoundError\u001b[0m                         Traceback (most recent call last)",
      "\u001b[0;32m~/opt/anaconda3/lib/python3.7/site-packages/selenium/webdriver/common/service.py\u001b[0m in \u001b[0;36mstart\u001b[0;34m(self)\u001b[0m\n\u001b[1;32m     75\u001b[0m                                             \u001b[0mstderr\u001b[0m\u001b[0;34m=\u001b[0m\u001b[0mself\u001b[0m\u001b[0;34m.\u001b[0m\u001b[0mlog_file\u001b[0m\u001b[0;34m,\u001b[0m\u001b[0;34m\u001b[0m\u001b[0;34m\u001b[0m\u001b[0m\n\u001b[0;32m---> 76\u001b[0;31m                                             stdin=PIPE)\n\u001b[0m\u001b[1;32m     77\u001b[0m         \u001b[0;32mexcept\u001b[0m \u001b[0mTypeError\u001b[0m\u001b[0;34m:\u001b[0m\u001b[0;34m\u001b[0m\u001b[0;34m\u001b[0m\u001b[0m\n",
      "\u001b[0;32m~/opt/anaconda3/lib/python3.7/subprocess.py\u001b[0m in \u001b[0;36m__init__\u001b[0;34m(self, args, bufsize, executable, stdin, stdout, stderr, preexec_fn, close_fds, shell, cwd, env, universal_newlines, startupinfo, creationflags, restore_signals, start_new_session, pass_fds, encoding, errors, text)\u001b[0m\n\u001b[1;32m    774\u001b[0m                                 \u001b[0merrread\u001b[0m\u001b[0;34m,\u001b[0m \u001b[0merrwrite\u001b[0m\u001b[0;34m,\u001b[0m\u001b[0;34m\u001b[0m\u001b[0;34m\u001b[0m\u001b[0m\n\u001b[0;32m--> 775\u001b[0;31m                                 restore_signals, start_new_session)\n\u001b[0m\u001b[1;32m    776\u001b[0m         \u001b[0;32mexcept\u001b[0m\u001b[0;34m:\u001b[0m\u001b[0;34m\u001b[0m\u001b[0;34m\u001b[0m\u001b[0m\n",
      "\u001b[0;32m~/opt/anaconda3/lib/python3.7/subprocess.py\u001b[0m in \u001b[0;36m_execute_child\u001b[0;34m(self, args, executable, preexec_fn, close_fds, pass_fds, cwd, env, startupinfo, creationflags, shell, p2cread, p2cwrite, c2pread, c2pwrite, errread, errwrite, restore_signals, start_new_session)\u001b[0m\n\u001b[1;32m   1521\u001b[0m                             \u001b[0merr_msg\u001b[0m \u001b[0;34m+=\u001b[0m \u001b[0;34m': '\u001b[0m \u001b[0;34m+\u001b[0m \u001b[0mrepr\u001b[0m\u001b[0;34m(\u001b[0m\u001b[0merr_filename\u001b[0m\u001b[0;34m)\u001b[0m\u001b[0;34m\u001b[0m\u001b[0;34m\u001b[0m\u001b[0m\n\u001b[0;32m-> 1522\u001b[0;31m                     \u001b[0;32mraise\u001b[0m \u001b[0mchild_exception_type\u001b[0m\u001b[0;34m(\u001b[0m\u001b[0merrno_num\u001b[0m\u001b[0;34m,\u001b[0m \u001b[0merr_msg\u001b[0m\u001b[0;34m,\u001b[0m \u001b[0merr_filename\u001b[0m\u001b[0;34m)\u001b[0m\u001b[0;34m\u001b[0m\u001b[0;34m\u001b[0m\u001b[0m\n\u001b[0m\u001b[1;32m   1523\u001b[0m                 \u001b[0;32mraise\u001b[0m \u001b[0mchild_exception_type\u001b[0m\u001b[0;34m(\u001b[0m\u001b[0merr_msg\u001b[0m\u001b[0;34m)\u001b[0m\u001b[0;34m\u001b[0m\u001b[0;34m\u001b[0m\u001b[0m\n",
      "\u001b[0;31mFileNotFoundError\u001b[0m: [Errno 2] No such file or directory: 'chromedriver': 'chromedriver'",
      "\nDuring handling of the above exception, another exception occurred:\n",
      "\u001b[0;31mWebDriverException\u001b[0m                        Traceback (most recent call last)",
      "\u001b[0;32m<ipython-input-76-be44acb171d6>\u001b[0m in \u001b[0;36m<module>\u001b[0;34m\u001b[0m\n\u001b[1;32m     19\u001b[0m     \u001b[0;32mreturn\u001b[0m \u001b[0mtabs_dic\u001b[0m\u001b[0;34m\u001b[0m\u001b[0;34m\u001b[0m\u001b[0m\n\u001b[1;32m     20\u001b[0m \u001b[0;34m\u001b[0m\u001b[0m\n\u001b[0;32m---> 21\u001b[0;31m \u001b[0mget_all_tabs_of_player_page\u001b[0m\u001b[0;34m(\u001b[0m\u001b[0;34m)\u001b[0m\u001b[0;34m\u001b[0m\u001b[0;34m\u001b[0m\u001b[0m\n\u001b[0m",
      "\u001b[0;32m<ipython-input-76-be44acb171d6>\u001b[0m in \u001b[0;36mget_all_tabs_of_player_page\u001b[0;34m(URL)\u001b[0m\n\u001b[1;32m      1\u001b[0m \u001b[0;32mdef\u001b[0m \u001b[0mget_all_tabs_of_player_page\u001b[0m\u001b[0;34m(\u001b[0m\u001b[0mURL\u001b[0m \u001b[0;34m=\u001b[0m \u001b[0;34m'https://www.basketball-reference.com/players/i/irvinky01.html'\u001b[0m\u001b[0;34m)\u001b[0m\u001b[0;34m:\u001b[0m\u001b[0;34m\u001b[0m\u001b[0;34m\u001b[0m\u001b[0m\n\u001b[0;32m----> 2\u001b[0;31m     \u001b[0mdriver\u001b[0m \u001b[0;34m=\u001b[0m \u001b[0mwebdriver\u001b[0m\u001b[0;34m.\u001b[0m\u001b[0mChrome\u001b[0m\u001b[0;34m(\u001b[0m\u001b[0;34m)\u001b[0m\u001b[0;34m\u001b[0m\u001b[0;34m\u001b[0m\u001b[0m\n\u001b[0m\u001b[1;32m      3\u001b[0m     \u001b[0mdriver\u001b[0m\u001b[0;34m.\u001b[0m\u001b[0mget\u001b[0m\u001b[0;34m(\u001b[0m\u001b[0mURL\u001b[0m\u001b[0;34m)\u001b[0m\u001b[0;34m\u001b[0m\u001b[0;34m\u001b[0m\u001b[0m\n\u001b[1;32m      4\u001b[0m     \u001b[0msoup\u001b[0m \u001b[0;34m=\u001b[0m \u001b[0mBeautifulSoup\u001b[0m\u001b[0;34m(\u001b[0m\u001b[0mdriver\u001b[0m\u001b[0;34m.\u001b[0m\u001b[0mpage_source\u001b[0m\u001b[0;34m,\u001b[0m\u001b[0;34m'html'\u001b[0m\u001b[0;34m)\u001b[0m\u001b[0;34m\u001b[0m\u001b[0;34m\u001b[0m\u001b[0m\n\u001b[1;32m      5\u001b[0m     \u001b[0mdriver\u001b[0m\u001b[0;34m.\u001b[0m\u001b[0mquit\u001b[0m\u001b[0;34m(\u001b[0m\u001b[0;34m)\u001b[0m\u001b[0;34m\u001b[0m\u001b[0;34m\u001b[0m\u001b[0m\n",
      "\u001b[0;32m~/opt/anaconda3/lib/python3.7/site-packages/selenium/webdriver/chrome/webdriver.py\u001b[0m in \u001b[0;36m__init__\u001b[0;34m(self, executable_path, port, options, service_args, desired_capabilities, service_log_path, chrome_options, keep_alive)\u001b[0m\n\u001b[1;32m     71\u001b[0m             \u001b[0mservice_args\u001b[0m\u001b[0;34m=\u001b[0m\u001b[0mservice_args\u001b[0m\u001b[0;34m,\u001b[0m\u001b[0;34m\u001b[0m\u001b[0;34m\u001b[0m\u001b[0m\n\u001b[1;32m     72\u001b[0m             log_path=service_log_path)\n\u001b[0;32m---> 73\u001b[0;31m         \u001b[0mself\u001b[0m\u001b[0;34m.\u001b[0m\u001b[0mservice\u001b[0m\u001b[0;34m.\u001b[0m\u001b[0mstart\u001b[0m\u001b[0;34m(\u001b[0m\u001b[0;34m)\u001b[0m\u001b[0;34m\u001b[0m\u001b[0;34m\u001b[0m\u001b[0m\n\u001b[0m\u001b[1;32m     74\u001b[0m \u001b[0;34m\u001b[0m\u001b[0m\n\u001b[1;32m     75\u001b[0m         \u001b[0;32mtry\u001b[0m\u001b[0;34m:\u001b[0m\u001b[0;34m\u001b[0m\u001b[0;34m\u001b[0m\u001b[0m\n",
      "\u001b[0;32m~/opt/anaconda3/lib/python3.7/site-packages/selenium/webdriver/common/service.py\u001b[0m in \u001b[0;36mstart\u001b[0;34m(self)\u001b[0m\n\u001b[1;32m     81\u001b[0m                 raise WebDriverException(\n\u001b[1;32m     82\u001b[0m                     \"'%s' executable needs to be in PATH. %s\" % (\n\u001b[0;32m---> 83\u001b[0;31m                         os.path.basename(self.path), self.start_error_message)\n\u001b[0m\u001b[1;32m     84\u001b[0m                 )\n\u001b[1;32m     85\u001b[0m             \u001b[0;32melif\u001b[0m \u001b[0merr\u001b[0m\u001b[0;34m.\u001b[0m\u001b[0merrno\u001b[0m \u001b[0;34m==\u001b[0m \u001b[0merrno\u001b[0m\u001b[0;34m.\u001b[0m\u001b[0mEACCES\u001b[0m\u001b[0;34m:\u001b[0m\u001b[0;34m\u001b[0m\u001b[0;34m\u001b[0m\u001b[0m\n",
      "\u001b[0;31mWebDriverException\u001b[0m: Message: 'chromedriver' executable needs to be in PATH. Please see https://sites.google.com/a/chromium.org/chromedriver/home\n"
     ]
    }
   ],
   "source": [
    "def get_all_tabs_of_player_page(URL = 'https://www.basketball-reference.com/players/i/irvinky01.html'):\n",
    "    driver = webdriver.Chrome()\n",
    "    driver.get(URL)\n",
    "    soup = BeautifulSoup(driver.page_source,'html')\n",
    "    driver.quit()\n",
    "    tables = soup.find_all('table',{\"class\":[\"row_summable sortable stats_table now_sortable\",\"suppress_all sortable stats_table now_sortable\",\"sortable stats_table now_sortable\",\"suppress_glossary sortable stats_table now_sortable\"]})\n",
    "    tabs_dic = {}\n",
    "    \n",
    "    for table in tables:\n",
    "        tab_name = table['id']\n",
    "        \n",
    "        tab_data = [[cell.text for cell in row.find_all([\"th\",\"td\"])] for row in table.find_all(\"tr\")]\n",
    "        df = pd.DataFrame(tab_data)\n",
    "        df.columns = df.iloc[0,:]\n",
    "        df.drop(index=0,inplace=True)\n",
    "        \n",
    "        tabs_dic[tab_name] = df\n",
    "    \n",
    "    return tabs_dic\n",
    "\n",
    "get_all_tabs_of_player_page()"
   ]
  },
  {
   "cell_type": "code",
   "execution_count": null,
   "metadata": {},
   "outputs": [],
   "source": [
    "!pwd"
   ]
  },
  {
   "cell_type": "code",
   "execution_count": null,
   "metadata": {},
   "outputs": [],
   "source": []
  }
 ],
 "metadata": {
  "kernelspec": {
   "display_name": "Python 3",
   "language": "python",
   "name": "python3"
  },
  "language_info": {
   "codemirror_mode": {
    "name": "ipython",
    "version": 3
   },
   "file_extension": ".py",
   "mimetype": "text/x-python",
   "name": "python",
   "nbconvert_exporter": "python",
   "pygments_lexer": "ipython3",
   "version": "3.7.4"
  }
 },
 "nbformat": 4,
 "nbformat_minor": 2
}
